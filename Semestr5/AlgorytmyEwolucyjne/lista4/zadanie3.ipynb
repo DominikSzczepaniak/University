{
 "cells": [
  {
   "cell_type": "code",
   "execution_count": 29,
   "metadata": {},
   "outputs": [],
   "source": [
    "import numpy as np\n",
    "import scipy\n",
    "import scipy.linalg\n",
    "import logging\n",
    "import plotly.graph_objs as go\n",
    "import plotly.express as px\n",
    "import tensorflow as tf"
   ]
  },
  {
   "cell_type": "code",
   "execution_count": 30,
   "metadata": {},
   "outputs": [],
   "source": [
    "class CMA_ES:\n",
    "    def __init__(self, x0, sigma, maxfevals = 10000, popsize = None, weights = None):\n",
    "        N = x0.shape[0]\n",
    "        self.dimension = N\n",
    "        self.chiN = N**0.5 * (1 - 1. / (4 * N) + 1. / (21 * N**2))\n",
    "        self.lam = 4 + int(3 * np.log(N)) if not popsize else popsize\n",
    "        print(f\"Popsize: {self.lam}\")\n",
    "        self.mu = int(self.lam / 2)\n",
    "        self.shape = tf.cast((self.lam, N), tf.int32)\n",
    "        \n",
    "        if weights:\n",
    "            self.weights = weights\n",
    "        else:\n",
    "            self.weights = np.array([np.log(self.lam / 2 + 0.5) - np.log(i + 1) if i < self.mu else 0\n",
    "                        for i in range(self.lam)])\n",
    "            self.weights /= np.sum(self.weights)\n",
    "        if(self.weights.shape == (self.lam,)):\n",
    "            self.weights = self.weights[:, np.newaxis]\n",
    "        self.mueff = np.sum(self.weights)**2 / np.sum(self.weights**2)\n",
    "        \n",
    "        self.cc = (4 + self.mueff/N) / (N+4 + 2 * self.mueff/N)\n",
    "        self.cs = (self.mueff + 2) / (N + self.mueff + 5)\n",
    "        self.c1 = 2 / ((N + 1.3)**2 + self.mueff) \n",
    "        # self.cmu = min([1 - self.c1, 2 * (self.mueff - 2 + 1/self.mueff) / ((N + 2)**2 + self.mueff)])\n",
    "        self.cmu = 2 * (self.mueff - 2 + 1 / self.mueff) / ((N + 2)**2 + 2 * self.mueff / 2)\n",
    "        # self.damps = 2 * self.mueff/self.lam + 0.3 + self.cs\n",
    "        self.damps = 1 + 2 * max(0, np.sqrt((self.mueff - 1)/(N + 1)) - 1) + self.cs\n",
    "\n",
    "        self.xmean = np.array(x0[:])\n",
    "        self.sigma = sigma\n",
    "        self.pc = np.zeros(N) \n",
    "        self.ps =np.zeros(N) \n",
    "        self.lazy_gap_evals = 0.5 * N * self.lam * (self.c1 + self.cmu)**-1 / N**2\n",
    "        self.maxfevals = maxfevals\n",
    "        self.C = np.identity(N)\n",
    "        self.counteval = 0 \n",
    "        self.fitvals = []   \n",
    "        self.best = (x0, None)\n",
    "        self.condition_number = 1\n",
    "        self.eigen_values = np.ones(N)\n",
    "        self.eigen_vectors = np.identity(N)\n",
    "        self.updated_eval = 0\n",
    "        self.inv_sqrt = np.ones(N)\n",
    "        self.B = np.eye(self.dimension)\n",
    "        self.D = np.eye(self.dimension)\n",
    "\n",
    "\n",
    "        #---------------\n",
    "        self.acov = np.random.rand() # [0-1]\n",
    "        self.ccov = float(self.acov) * (2. / (N + np.sqrt(2.))**2 + (1 - self.acov) * min(1., (2.*self.mu - 1.)/(N+2.)**2 + self.mu))\n",
    "\n",
    "    # def _update_eigensystem(self, current_eval, lazy_gap_evals):\n",
    "    #     if current_eval <= self.updated_eval + lazy_gap_evals:\n",
    "    #         return self\n",
    "    #     self.eigen_values, self.eigen_vectors = np.linalg.eig(self.C)\n",
    "    #     self.inv_sqrt = self.eigen_vectors @ np.diag(self.eigen_values**-0.5) @ self.eigen_vectors.T\n",
    "    #     self.condition_number = self.eigen_values.max() / self.eigen_values.min()\n",
    "         \n",
    "\n",
    "    #yi = (lam, N) + 1, * (N, N) * (N, N) * (N, 1) = (lam, N) + 1, * (N, 1) = (lam, N)\n",
    "\n",
    "    def sample(self, old_x):\n",
    "        z = tf.random.normal(self.shape, dtype=tf.float64) \n",
    "        z = np.array(z)\n",
    "        y = z @ self.B @ self.D # lam, N\n",
    "        x = old_x + self.sigma * y  # old_x ?\n",
    "        return x, z\n",
    "    \n",
    "    def update(self, x, fitvals, z):\n",
    "        \"\"\"Zaktualizuj wartoĹci uzyskanych parametrĂłw\"\"\"\n",
    "        self.counteval += fitvals.shape[0] \n",
    "        \n",
    "        #---------- z avg\n",
    "        zavg = 1 / self.mu * np.sum(z) #matmul or multiplication?\n",
    "        print(self.B.shape) # (N, N)\n",
    "        print(self.D.shape) # (N, N)\n",
    "        print(x[0].reshape(-1, 1).shape) #(N, 1) \n",
    "        print(x.shape) #lam, N\n",
    "        # x = x + self.sigma * self.B @ self.D * zavg\n",
    "        for i in range(len(x)):\n",
    "            precalculate = self.sigma * self.B @ self.D * zavg\n",
    "            print(\"precalc\", precalculate.shape)\n",
    "            x[i] = x[i] + self.sigma * self.B@self.D*zavg # \n",
    "        #----------\n",
    "\n",
    "        idx = np.argsort(fitvals)\n",
    "        x_sorted = x[idx]\n",
    "        self.fitvals = fitvals[idx] \n",
    "        self.best = (x[0], self.fitvals[0])\n",
    "        taken = x_sorted[:self.mu]\n",
    "        #--------------------------------\n",
    "\n",
    "        xdiff = x_sorted - self.xmean\n",
    "        x_mean = np.sum(xdiff * self.weights, axis=0)\n",
    "        m = self.xmean + x_mean\n",
    "        #------------------------------------------------------------------------------------------------------\n",
    "        # y_mean = x_mean / self.sigma \n",
    "        pc = (1 - self.cc) * self.pc + np.sqrt(self.cc * (2 - self.cc) * self.mueff) * self.B @ self.D * zavg\n",
    "        # pcmatrix = pc[:, np.newaxis]\n",
    "        ps = (1 - self.cs) * self.ps + np.sqrt(self.cs * (2 - self.cs) * self.mueff) * self.B * zavg   \n",
    "        psnorm = np.linalg.norm(ps)\n",
    "\n",
    "        # C_m = np.array([e[:, np.newaxis] * e.T for e in (xdiff / self.sigma)])\n",
    "        # y_s = np.sum(C_m * self.weights[:, np.newaxis], axis=0)\n",
    "\n",
    "        # C = (1 - self.c1 - self.cmu) * self.C + self.c1 * pcmatrix * pcmatrix.T + self.cmu * y_s\n",
    "        Z = B @ D * (1/self.mu * np.sum(z*z.T)) * (self.B@self.D).T\n",
    "        C = (1 - self.ccov) * self.C + self.ccov * (self.acov * self.pc * self.pc.T + (1 - self.acov) @ Z)\n",
    "\n",
    "        # C = (C + C.T)/2.0 # ????????\n",
    "        \n",
    "        #--------------------------------------------------------------------------------------------------------\n",
    "\n",
    "        # D_inv = np.diag(np.reciprocal(np.diag(self.D)))\n",
    "        # C_inv_squared = (self.B @ D_inv) @ (self.B.T)\n",
    "        # C_inv_squared_y = np.squeeze(C_inv_squared @ y_mean[:, np.newaxis])  \n",
    "        # sigma = self.sigma * np.exp((self.cs / self.damps) * ((np.linalg.norm(ps) / self.chiN) - 1))\n",
    "        sigma = self.sigma * np.exp((psnorm - self.chiN) / self.damps * self.chiN)\n",
    "\n",
    "        #-------------------------------------------------------------------------------------------------------\n",
    "        eigvalues, eigvectors = tf.linalg.ein(C)\n",
    "        eigenvalues = tf.math.real(eigenvalues)\n",
    "\n",
    "        B = tf.math.real(eigenvectors)\n",
    "\n",
    "        D = tf.linalg.diag(tf.sqrt(eigenvalues))\n",
    "\n",
    "        B = np.array(B)\n",
    "        D = np.array(D)\n",
    "        # u, B, _ = tf.linalg.svd(C)\n",
    "        # u = np.array(u)\n",
    "        # B = np.array(B)\n",
    "        # diag_D = np.sqrt(u)\n",
    "        # D = np.diag(diag_D)\n",
    "\n",
    "        #--------------------------------------------------------------------------------------------------------\n",
    "\n",
    "        self.pc = pc\n",
    "        self.ps = ps\n",
    "        self.C = C\n",
    "        self.sigma = sigma\n",
    "        self.B = B\n",
    "        self.D = D\n",
    "        self.xmean = m\n",
    "        return taken\n",
    "        \n",
    "    def terminate(self):\n",
    "        \"\"\"ZakoĹcz algorytm\"\"\"\n",
    "        if self.counteval <= 0:\n",
    "            return False\n",
    "        if self.counteval >= self.maxfevals:\n",
    "            return True\n",
    "        if self.condition_number > 1e13:\n",
    "            return True\n",
    "        if self.sigma * np.max(self.eigen_values)**0.5 < 1e-13:\n",
    "            return True\n",
    "        return False"
   ]
  },
  {
   "cell_type": "code",
   "execution_count": 31,
   "metadata": {},
   "outputs": [],
   "source": [
    "class Active_CMA_ES:\n",
    "    def __init__(self, x0, sigma, maxfevals = 10000, popsize = None, weights = None, domain = None):\n",
    "        N = x0.shape[0]\n",
    "        self.dimension = N\n",
    "        self.chiN = N**0.5 * (1 - 1. / (4 * N) + 1. / (21 * N**2))\n",
    "        self.lam = 4 + int(3 * np.log(N)) if not popsize else popsize\n",
    "        print(f\"Popsize: {self.lam}\")\n",
    "        self.mu = int(self.lam / 2)\n",
    "        self.shape = tf.cast((self.lam, N), tf.int32)\n",
    "        \n",
    "        if weights:\n",
    "            self.weights = weights\n",
    "        else:\n",
    "            self.weights = np.array([np.log(self.lam / 2 + 0.5) - np.log(i + 1) if i < self.mu \n",
    "                          else np.log(i + 1 - self.lam / 2) - np.log(self.lam / 2) \n",
    "                          for i in range(self.lam)])\n",
    "            self.weights /= np.sum(np.abs(self.weights))\n",
    "        if(self.weights.shape == (self.lam,)):\n",
    "            self.weights = self.weights[:, np.newaxis]\n",
    "        if domain:\n",
    "            self.domain = domain\n",
    "        self.mueff = np.sum(self.weights)**2 / np.sum(self.weights**2)\n",
    "        \n",
    "        self.cc = (4 + self.mueff/N) / (N+4 + 2 * self.mueff/N)\n",
    "        self.cs = (self.mueff + 2) / (N + self.mueff + 5)\n",
    "        self.c1 = 2 / ((N + 1.3)**2 + self.mueff) \n",
    "        # self.cmu = min([1 - self.c1, 2 * (self.mueff - 2 + 1/self.mueff) / ((N + 2)**2 + self.mueff)])\n",
    "        self.cmu = 2 * (self.mueff - 2 + 1 / self.mueff) / ((N + 2)**2 + 2 * self.mueff / 2)\n",
    "        # self.damps = 2 * self.mueff/self.lam + 0.3 + self.cs\n",
    "        self.damps = 1 + 2 * max(0, np.sqrt((self.mueff - 1)/(N + 1)) - 1) + self.cs\n",
    "\n",
    "        self.xmean = np.array(x0[:])\n",
    "        self.sigma = sigma\n",
    "        self.pc = np.zeros(N) \n",
    "        self.ps =np.zeros(N) \n",
    "        self.lazy_gap_evals = 0.5 * N * self.lam * (self.c1 + self.cmu)**-1 / N**2\n",
    "        self.maxfevals = maxfevals\n",
    "        self.C = np.identity(N)\n",
    "        self.counteval = 0 \n",
    "        self.fitvals = []   \n",
    "        self.best = (x0, None)\n",
    "        self.condition_number = 1\n",
    "        self.eigen_values = np.ones(N)\n",
    "        self.eigen_vectors = np.identity(N)\n",
    "        self.updated_eval = 0\n",
    "        self.inv_sqrt = np.ones(N)\n",
    "        self.B = np.eye(self.dimension)\n",
    "        self.D = np.eye(self.dimension)\n",
    "\n",
    "    def _update_eigensystem(self, current_eval, lazy_gap_evals):\n",
    "        if current_eval <= self.updated_eval + lazy_gap_evals:\n",
    "            return self\n",
    "        self.eigen_values, self.eigen_vectors = np.linalg.eig(self.C)\n",
    "        self.inv_sqrt = self.eigen_vectors @ np.diag(self.eigen_values**-0.5) @ self.eigen_vectors.T\n",
    "        self.condition_number = self.eigen_values.max() / self.eigen_values.min()\n",
    "         \n",
    "    def sample(self):\n",
    "        z = tf.random.normal(self.shape, dtype=tf.float64)\n",
    "        z = np.array(z)\n",
    "        y = z @ (self.B @ self.D)\n",
    "        x = self.xmean + self.sigma * y\n",
    "        return x\n",
    "    \n",
    "    def update(self, x, fitvals):\n",
    "        \"\"\"Zaktualizuj wartoĹci uzyskanych parametrĂłw\"\"\"\n",
    "        self.counteval += fitvals.shape[0] \n",
    "        #check if x in domain, if its not add 1e8 to fitval of this x\n",
    "        if self.domain:\n",
    "            for i, xi in enumerate(x):\n",
    "                if np.any(xi < self.domain[0]) or np.any(xi > self.domain[1]):\n",
    "                    fitvals[i] += 1e8\n",
    "\n",
    "        \n",
    "        #------------------------------------------------------------------------------------------------------\n",
    "        idx = np.argsort(fitvals)\n",
    "        x_sorted = x[idx]\n",
    "        self.fitvals = fitvals[idx] \n",
    "        self.best = (x[0], self.fitvals[0])\n",
    "\n",
    "        xdiff = x_sorted - self.xmean\n",
    "        x_mean = np.sum(xdiff * self.weights, axis=0)\n",
    "        m = self.xmean + x_mean\n",
    "        #------------------------------------------------------------------------------------------------------\n",
    "        y_mean = x_mean / self.sigma \n",
    "        pc = (1 - self.cc) * self.pc + np.sqrt(self.cc * (2 - self.cc) * self.mueff) * y_mean\n",
    "        pcmatrix = pc[:, np.newaxis]\n",
    "\n",
    "        C_m = np.array([e[:, np.newaxis] * e.T for e in (xdiff / self.sigma)])\n",
    "        y_s = np.sum(C_m * self.weights[:, np.newaxis], axis=0)\n",
    "\n",
    "        C = (1 - self.c1 - self.cmu) * self.C + self.c1 * pcmatrix * pcmatrix.T + self.cmu * y_s\n",
    "\n",
    "        C = (C + C.T)/2.0\n",
    "        \n",
    "        #--------------------------------------------------------------------------------------------------------\n",
    "\n",
    "        D_inv = np.diag(np.reciprocal(np.diag(self.D)))\n",
    "        C_inv_squared = (self.B @ D_inv) @ (self.B.T)\n",
    "        C_inv_squared_y = np.squeeze(C_inv_squared @ y_mean[:, np.newaxis])  \n",
    "        ps = (1 - self.cs) * self.ps + np.sqrt(self.cs * (2 - self.cs) * self.mueff) * C_inv_squared_y  \n",
    "\n",
    "        sigma = self.sigma * np.exp((self.cs / self.damps) * ((np.linalg.norm(ps) / self.chiN) - 1))\n",
    "\n",
    "        #--------------------------------------------------------------------------------------------------------\n",
    "        u, B, _ = tf.linalg.svd(C)\n",
    "        u = np.array(u)\n",
    "        B = np.array(B)\n",
    "        diag_D = np.sqrt(u)\n",
    "        D = np.diag(diag_D)\n",
    "\n",
    "        #--------------------------------------------------------------------------------------------------------\n",
    "\n",
    "        self.pc = pc\n",
    "        self.ps = ps\n",
    "        self.C = C\n",
    "        self.sigma = sigma\n",
    "        self.B = B\n",
    "        self.D = D\n",
    "        self.xmean = m\n",
    "        \n",
    "    def terminate(self):\n",
    "        \"\"\"ZakoĹcz algorytm\"\"\"\n",
    "        if self.counteval <= 0:\n",
    "            return False\n",
    "        if self.counteval >= self.maxfevals:\n",
    "            return True\n",
    "        if self.condition_number > 1e13:\n",
    "            return True\n",
    "        if self.sigma * np.max(self.eigen_values)**0.5 < 1e-13:\n",
    "            return True\n",
    "        return False"
   ]
  },
  {
   "cell_type": "code",
   "execution_count": 32,
   "metadata": {},
   "outputs": [],
   "source": [
    "def optimize(func, x0, sigma, maxfevals = 1000, popsize = None, weights = None, domain = None):\n",
    "    cma_es = Active_CMA_ES(x0, sigma, maxfevals, popsize, weights, domain)\n",
    "    res = []\n",
    "    cntr = 0\n",
    "    while not cma_es.terminate():\n",
    "        cntr+=1\n",
    "        x = cma_es.sample()\n",
    "        f_eval = func(x)\n",
    "        cma_es.update(x, f_eval)\n",
    "        res.append(cma_es.best)\n",
    "        if cntr % 100 == 0:\n",
    "            print(f\"Iteration {cntr:5d}: {res[-1][1]}\")\n",
    "    return res\n",
    "\n",
    "def optimize_and_plot(f, sigma = 1, d = 10, popsize = None, maxfevals = 1000, domain = None):\n",
    "    x0 = np.repeat(100.0, d)\n",
    "    res = optimize(f, x0, sigma, popsize = popsize, maxfevals = maxfevals, domain = domain)\n",
    "    print(f\"Best: {res[-1][0]}, value: {res[-1][1]}\")\n",
    "    y = np.array([nd for st, nd in res])\n",
    "    fig = px.line(x = np.arange(y.shape[0]) + 1, y = y)\n",
    "    fig.show()"
   ]
  },
  {
   "cell_type": "code",
   "execution_count": 33,
   "metadata": {},
   "outputs": [],
   "source": [
    "def plot_3d_function(f, a = 10, k = 100):\n",
    "    x = np.linspace(-a, a, k)\n",
    "    y = x.copy()\n",
    "    xy = np.transpose([np.tile(x, len(y)), np.repeat(y, len(x))])\n",
    "    z = f(xy)\n",
    "    fig = go.Figure(data=[go.Surface(x = x,  y= y, z=z.reshape((x.shape[0], -1)))])\n",
    "    fig.update_layout(title = f.__name__, margin=dict(l=65, r=50, b=65, t=90))\n",
    "    fig.show()"
   ]
  },
  {
   "cell_type": "code",
   "execution_count": 34,
   "metadata": {},
   "outputs": [],
   "source": [
    "def schwefel_function(X):\n",
    "    return 418.9829 * X.shape[1] - np.sum(X * np.sin(np.sqrt(np.abs(X))), axis=1)"
   ]
  },
  {
   "cell_type": "code",
   "execution_count": 51,
   "metadata": {},
   "outputs": [
    {
     "name": "stdout",
     "output_type": "stream",
     "text": [
      "Popsize: 100\n",
      "Iteration   100: -4.561030212200252e+43\n",
      "Best: [-5.64415151e+42 -1.80698424e+43  2.15710317e+43  5.06663426e+42\n",
      " -1.01607591e+43  6.19916495e+42 -6.29935573e+42  1.68707253e+41\n",
      "  1.82813411e+42 -3.53901826e+41], value: -4.561030212200252e+43\n"
     ]
    },
    {
     "name": "stderr",
     "output_type": "stream",
     "text": [
      "/var/folders/71/db_g09c51311049r8gdj12m00000gn/T/ipykernel_22782/893382179.py:30: RuntimeWarning:\n",
      "\n",
      "invalid value encountered in sqrt\n",
      "\n"
     ]
    },
    {
     "data": {
      "application/vnd.plotly.v1+json": {
       "config": {
        "plotlyServerURL": "https://plot.ly"
       },
       "data": [
        {
         "hovertemplate": "x=%{x}<br>y=%{y}<extra></extra>",
         "legendgroup": "",
         "line": {
          "color": "#636efa",
          "dash": "solid"
         },
         "marker": {
          "symbol": "circle"
         },
         "mode": "lines",
         "name": "",
         "orientation": "v",
         "showlegend": false,
         "type": "scatter",
         "x": [
          1,
          2,
          3,
          4,
          5,
          6,
          7,
          8,
          9,
          10,
          11,
          12,
          13,
          14,
          15,
          16,
          17,
          18,
          19,
          20,
          21,
          22,
          23,
          24,
          25,
          26,
          27,
          28,
          29,
          30,
          31,
          32,
          33,
          34,
          35,
          36,
          37,
          38,
          39,
          40,
          41,
          42,
          43,
          44,
          45,
          46,
          47,
          48,
          49,
          50,
          51,
          52,
          53,
          54,
          55,
          56,
          57,
          58,
          59,
          60,
          61,
          62,
          63,
          64,
          65,
          66,
          67,
          68,
          69,
          70,
          71,
          72,
          73,
          74,
          75,
          76,
          77,
          78,
          79,
          80,
          81,
          82,
          83,
          84,
          85,
          86,
          87,
          88,
          89,
          90,
          91,
          92,
          93,
          94,
          95,
          96,
          97,
          98,
          99,
          100
         ],
         "xaxis": "x",
         "y": [
          4604.192415047942,
          4176.339680337686,
          3880.987584003128,
          3559.9646980658476,
          3056.7829776303247,
          100000198.42375582,
          99993432.02076143,
          99976436.7454484,
          99929930.93774953,
          99789322.48626724,
          99353962.36789502,
          98436916.76258968,
          96135099.37107848,
          91601780.12055339,
          69227732.7356726,
          29472723.67714016,
          -117626903.84175062,
          -366845114.692362,
          -1240140073.4975789,
          -2594508302.3172054,
          -11491171610.8654,
          -23636253907.52018,
          -106611523291.904,
          -194073521097.2706,
          -526636516596.2216,
          -1512501184039.4937,
          -4050539580763.5615,
          -8478365624548.261,
          -26629430662794.902,
          -73132207625368.77,
          -187152805535932.6,
          -525513986554215.5,
          -1588199108119637.2,
          -4009891077595988,
          -12009721089522470,
          -27342812938825564,
          -62030656261182880,
          -236350006254942500,
          -351933534237206340,
          -1934694073080352300,
          -4253465110555154400,
          -8731686604422465000,
          -22603816167118275000,
          -91134057525023690000,
          -233084093200790850000,
          -456156363363080300000,
          -1.7229114893444375e+21,
          -3.3132894898505646e+21,
          -1.1820142699846237e+22,
          -2.2593267403396693e+22,
          -7.570142903053069e+22,
          -1.941307525334358e+23,
          -5.5298046716814035e+23,
          -1.4613892491137e+24,
          -3.2138238182588136e+24,
          -8.203177305515789e+24,
          -1.8953991780006255e+25,
          -9.456826081142698e+25,
          -1.895379948552299e+26,
          -4.721911244135954e+26,
          -1.3423697190919063e+27,
          -2.913375298203896e+27,
          -6.115130803388163e+27,
          -2.0862475802533635e+28,
          -5.194116552115584e+28,
          -1.7786950030334922e+29,
          -3.463365837929884e+29,
          -9.231296567764496e+29,
          -2.1917533996656486e+30,
          -5.031573790395082e+30,
          -2.226736010004677e+31,
          -4.662732642626647e+31,
          -1.3365489428869864e+32,
          -3.676558719807626e+32,
          -7.982586209355754e+32,
          -2.953968581662868e+33,
          -8.741892157410574e+33,
          -1.308249078943382e+34,
          -3.9845117019524906e+34,
          -1.0723343161567038e+35,
          -3.2742203005690034e+35,
          -8.922865188967485e+35,
          -2.8245260345942264e+36,
          -4.711717330164139e+36,
          -1.1202648627773912e+37,
          -3.527182220360586e+37,
          -8.984882571951847e+37,
          -2.51508616581201e+38,
          -6.4147107014017884e+38,
          -1.7091362541487195e+39,
          -4.1527256242213826e+39,
          -1.2008385338866272e+40,
          -3.820469052765331e+40,
          -7.327424616316962e+40,
          -2.6244898948326327e+41,
          -8.787304814631398e+41,
          -1.567126318415058e+42,
          -3.130943675334912e+42,
          -1.4389487622665396e+43,
          -4.561030212200252e+43
         ],
         "yaxis": "y"
        }
       ],
       "layout": {
        "legend": {
         "tracegroupgap": 0
        },
        "margin": {
         "t": 60
        },
        "template": {
         "data": {
          "bar": [
           {
            "error_x": {
             "color": "#2a3f5f"
            },
            "error_y": {
             "color": "#2a3f5f"
            },
            "marker": {
             "line": {
              "color": "#E5ECF6",
              "width": 0.5
             },
             "pattern": {
              "fillmode": "overlay",
              "size": 10,
              "solidity": 0.2
             }
            },
            "type": "bar"
           }
          ],
          "barpolar": [
           {
            "marker": {
             "line": {
              "color": "#E5ECF6",
              "width": 0.5
             },
             "pattern": {
              "fillmode": "overlay",
              "size": 10,
              "solidity": 0.2
             }
            },
            "type": "barpolar"
           }
          ],
          "carpet": [
           {
            "aaxis": {
             "endlinecolor": "#2a3f5f",
             "gridcolor": "white",
             "linecolor": "white",
             "minorgridcolor": "white",
             "startlinecolor": "#2a3f5f"
            },
            "baxis": {
             "endlinecolor": "#2a3f5f",
             "gridcolor": "white",
             "linecolor": "white",
             "minorgridcolor": "white",
             "startlinecolor": "#2a3f5f"
            },
            "type": "carpet"
           }
          ],
          "choropleth": [
           {
            "colorbar": {
             "outlinewidth": 0,
             "ticks": ""
            },
            "type": "choropleth"
           }
          ],
          "contour": [
           {
            "colorbar": {
             "outlinewidth": 0,
             "ticks": ""
            },
            "colorscale": [
             [
              0,
              "#0d0887"
             ],
             [
              0.1111111111111111,
              "#46039f"
             ],
             [
              0.2222222222222222,
              "#7201a8"
             ],
             [
              0.3333333333333333,
              "#9c179e"
             ],
             [
              0.4444444444444444,
              "#bd3786"
             ],
             [
              0.5555555555555556,
              "#d8576b"
             ],
             [
              0.6666666666666666,
              "#ed7953"
             ],
             [
              0.7777777777777778,
              "#fb9f3a"
             ],
             [
              0.8888888888888888,
              "#fdca26"
             ],
             [
              1,
              "#f0f921"
             ]
            ],
            "type": "contour"
           }
          ],
          "contourcarpet": [
           {
            "colorbar": {
             "outlinewidth": 0,
             "ticks": ""
            },
            "type": "contourcarpet"
           }
          ],
          "heatmap": [
           {
            "colorbar": {
             "outlinewidth": 0,
             "ticks": ""
            },
            "colorscale": [
             [
              0,
              "#0d0887"
             ],
             [
              0.1111111111111111,
              "#46039f"
             ],
             [
              0.2222222222222222,
              "#7201a8"
             ],
             [
              0.3333333333333333,
              "#9c179e"
             ],
             [
              0.4444444444444444,
              "#bd3786"
             ],
             [
              0.5555555555555556,
              "#d8576b"
             ],
             [
              0.6666666666666666,
              "#ed7953"
             ],
             [
              0.7777777777777778,
              "#fb9f3a"
             ],
             [
              0.8888888888888888,
              "#fdca26"
             ],
             [
              1,
              "#f0f921"
             ]
            ],
            "type": "heatmap"
           }
          ],
          "heatmapgl": [
           {
            "colorbar": {
             "outlinewidth": 0,
             "ticks": ""
            },
            "colorscale": [
             [
              0,
              "#0d0887"
             ],
             [
              0.1111111111111111,
              "#46039f"
             ],
             [
              0.2222222222222222,
              "#7201a8"
             ],
             [
              0.3333333333333333,
              "#9c179e"
             ],
             [
              0.4444444444444444,
              "#bd3786"
             ],
             [
              0.5555555555555556,
              "#d8576b"
             ],
             [
              0.6666666666666666,
              "#ed7953"
             ],
             [
              0.7777777777777778,
              "#fb9f3a"
             ],
             [
              0.8888888888888888,
              "#fdca26"
             ],
             [
              1,
              "#f0f921"
             ]
            ],
            "type": "heatmapgl"
           }
          ],
          "histogram": [
           {
            "marker": {
             "pattern": {
              "fillmode": "overlay",
              "size": 10,
              "solidity": 0.2
             }
            },
            "type": "histogram"
           }
          ],
          "histogram2d": [
           {
            "colorbar": {
             "outlinewidth": 0,
             "ticks": ""
            },
            "colorscale": [
             [
              0,
              "#0d0887"
             ],
             [
              0.1111111111111111,
              "#46039f"
             ],
             [
              0.2222222222222222,
              "#7201a8"
             ],
             [
              0.3333333333333333,
              "#9c179e"
             ],
             [
              0.4444444444444444,
              "#bd3786"
             ],
             [
              0.5555555555555556,
              "#d8576b"
             ],
             [
              0.6666666666666666,
              "#ed7953"
             ],
             [
              0.7777777777777778,
              "#fb9f3a"
             ],
             [
              0.8888888888888888,
              "#fdca26"
             ],
             [
              1,
              "#f0f921"
             ]
            ],
            "type": "histogram2d"
           }
          ],
          "histogram2dcontour": [
           {
            "colorbar": {
             "outlinewidth": 0,
             "ticks": ""
            },
            "colorscale": [
             [
              0,
              "#0d0887"
             ],
             [
              0.1111111111111111,
              "#46039f"
             ],
             [
              0.2222222222222222,
              "#7201a8"
             ],
             [
              0.3333333333333333,
              "#9c179e"
             ],
             [
              0.4444444444444444,
              "#bd3786"
             ],
             [
              0.5555555555555556,
              "#d8576b"
             ],
             [
              0.6666666666666666,
              "#ed7953"
             ],
             [
              0.7777777777777778,
              "#fb9f3a"
             ],
             [
              0.8888888888888888,
              "#fdca26"
             ],
             [
              1,
              "#f0f921"
             ]
            ],
            "type": "histogram2dcontour"
           }
          ],
          "mesh3d": [
           {
            "colorbar": {
             "outlinewidth": 0,
             "ticks": ""
            },
            "type": "mesh3d"
           }
          ],
          "parcoords": [
           {
            "line": {
             "colorbar": {
              "outlinewidth": 0,
              "ticks": ""
             }
            },
            "type": "parcoords"
           }
          ],
          "pie": [
           {
            "automargin": true,
            "type": "pie"
           }
          ],
          "scatter": [
           {
            "fillpattern": {
             "fillmode": "overlay",
             "size": 10,
             "solidity": 0.2
            },
            "type": "scatter"
           }
          ],
          "scatter3d": [
           {
            "line": {
             "colorbar": {
              "outlinewidth": 0,
              "ticks": ""
             }
            },
            "marker": {
             "colorbar": {
              "outlinewidth": 0,
              "ticks": ""
             }
            },
            "type": "scatter3d"
           }
          ],
          "scattercarpet": [
           {
            "marker": {
             "colorbar": {
              "outlinewidth": 0,
              "ticks": ""
             }
            },
            "type": "scattercarpet"
           }
          ],
          "scattergeo": [
           {
            "marker": {
             "colorbar": {
              "outlinewidth": 0,
              "ticks": ""
             }
            },
            "type": "scattergeo"
           }
          ],
          "scattergl": [
           {
            "marker": {
             "colorbar": {
              "outlinewidth": 0,
              "ticks": ""
             }
            },
            "type": "scattergl"
           }
          ],
          "scattermapbox": [
           {
            "marker": {
             "colorbar": {
              "outlinewidth": 0,
              "ticks": ""
             }
            },
            "type": "scattermapbox"
           }
          ],
          "scatterpolar": [
           {
            "marker": {
             "colorbar": {
              "outlinewidth": 0,
              "ticks": ""
             }
            },
            "type": "scatterpolar"
           }
          ],
          "scatterpolargl": [
           {
            "marker": {
             "colorbar": {
              "outlinewidth": 0,
              "ticks": ""
             }
            },
            "type": "scatterpolargl"
           }
          ],
          "scatterternary": [
           {
            "marker": {
             "colorbar": {
              "outlinewidth": 0,
              "ticks": ""
             }
            },
            "type": "scatterternary"
           }
          ],
          "surface": [
           {
            "colorbar": {
             "outlinewidth": 0,
             "ticks": ""
            },
            "colorscale": [
             [
              0,
              "#0d0887"
             ],
             [
              0.1111111111111111,
              "#46039f"
             ],
             [
              0.2222222222222222,
              "#7201a8"
             ],
             [
              0.3333333333333333,
              "#9c179e"
             ],
             [
              0.4444444444444444,
              "#bd3786"
             ],
             [
              0.5555555555555556,
              "#d8576b"
             ],
             [
              0.6666666666666666,
              "#ed7953"
             ],
             [
              0.7777777777777778,
              "#fb9f3a"
             ],
             [
              0.8888888888888888,
              "#fdca26"
             ],
             [
              1,
              "#f0f921"
             ]
            ],
            "type": "surface"
           }
          ],
          "table": [
           {
            "cells": {
             "fill": {
              "color": "#EBF0F8"
             },
             "line": {
              "color": "white"
             }
            },
            "header": {
             "fill": {
              "color": "#C8D4E3"
             },
             "line": {
              "color": "white"
             }
            },
            "type": "table"
           }
          ]
         },
         "layout": {
          "annotationdefaults": {
           "arrowcolor": "#2a3f5f",
           "arrowhead": 0,
           "arrowwidth": 1
          },
          "autotypenumbers": "strict",
          "coloraxis": {
           "colorbar": {
            "outlinewidth": 0,
            "ticks": ""
           }
          },
          "colorscale": {
           "diverging": [
            [
             0,
             "#8e0152"
            ],
            [
             0.1,
             "#c51b7d"
            ],
            [
             0.2,
             "#de77ae"
            ],
            [
             0.3,
             "#f1b6da"
            ],
            [
             0.4,
             "#fde0ef"
            ],
            [
             0.5,
             "#f7f7f7"
            ],
            [
             0.6,
             "#e6f5d0"
            ],
            [
             0.7,
             "#b8e186"
            ],
            [
             0.8,
             "#7fbc41"
            ],
            [
             0.9,
             "#4d9221"
            ],
            [
             1,
             "#276419"
            ]
           ],
           "sequential": [
            [
             0,
             "#0d0887"
            ],
            [
             0.1111111111111111,
             "#46039f"
            ],
            [
             0.2222222222222222,
             "#7201a8"
            ],
            [
             0.3333333333333333,
             "#9c179e"
            ],
            [
             0.4444444444444444,
             "#bd3786"
            ],
            [
             0.5555555555555556,
             "#d8576b"
            ],
            [
             0.6666666666666666,
             "#ed7953"
            ],
            [
             0.7777777777777778,
             "#fb9f3a"
            ],
            [
             0.8888888888888888,
             "#fdca26"
            ],
            [
             1,
             "#f0f921"
            ]
           ],
           "sequentialminus": [
            [
             0,
             "#0d0887"
            ],
            [
             0.1111111111111111,
             "#46039f"
            ],
            [
             0.2222222222222222,
             "#7201a8"
            ],
            [
             0.3333333333333333,
             "#9c179e"
            ],
            [
             0.4444444444444444,
             "#bd3786"
            ],
            [
             0.5555555555555556,
             "#d8576b"
            ],
            [
             0.6666666666666666,
             "#ed7953"
            ],
            [
             0.7777777777777778,
             "#fb9f3a"
            ],
            [
             0.8888888888888888,
             "#fdca26"
            ],
            [
             1,
             "#f0f921"
            ]
           ]
          },
          "colorway": [
           "#636efa",
           "#EF553B",
           "#00cc96",
           "#ab63fa",
           "#FFA15A",
           "#19d3f3",
           "#FF6692",
           "#B6E880",
           "#FF97FF",
           "#FECB52"
          ],
          "font": {
           "color": "#2a3f5f"
          },
          "geo": {
           "bgcolor": "white",
           "lakecolor": "white",
           "landcolor": "#E5ECF6",
           "showlakes": true,
           "showland": true,
           "subunitcolor": "white"
          },
          "hoverlabel": {
           "align": "left"
          },
          "hovermode": "closest",
          "mapbox": {
           "style": "light"
          },
          "paper_bgcolor": "white",
          "plot_bgcolor": "#E5ECF6",
          "polar": {
           "angularaxis": {
            "gridcolor": "white",
            "linecolor": "white",
            "ticks": ""
           },
           "bgcolor": "#E5ECF6",
           "radialaxis": {
            "gridcolor": "white",
            "linecolor": "white",
            "ticks": ""
           }
          },
          "scene": {
           "xaxis": {
            "backgroundcolor": "#E5ECF6",
            "gridcolor": "white",
            "gridwidth": 2,
            "linecolor": "white",
            "showbackground": true,
            "ticks": "",
            "zerolinecolor": "white"
           },
           "yaxis": {
            "backgroundcolor": "#E5ECF6",
            "gridcolor": "white",
            "gridwidth": 2,
            "linecolor": "white",
            "showbackground": true,
            "ticks": "",
            "zerolinecolor": "white"
           },
           "zaxis": {
            "backgroundcolor": "#E5ECF6",
            "gridcolor": "white",
            "gridwidth": 2,
            "linecolor": "white",
            "showbackground": true,
            "ticks": "",
            "zerolinecolor": "white"
           }
          },
          "shapedefaults": {
           "line": {
            "color": "#2a3f5f"
           }
          },
          "ternary": {
           "aaxis": {
            "gridcolor": "white",
            "linecolor": "white",
            "ticks": ""
           },
           "baxis": {
            "gridcolor": "white",
            "linecolor": "white",
            "ticks": ""
           },
           "bgcolor": "#E5ECF6",
           "caxis": {
            "gridcolor": "white",
            "linecolor": "white",
            "ticks": ""
           }
          },
          "title": {
           "x": 0.05
          },
          "xaxis": {
           "automargin": true,
           "gridcolor": "white",
           "linecolor": "white",
           "ticks": "",
           "title": {
            "standoff": 15
           },
           "zerolinecolor": "white",
           "zerolinewidth": 2
          },
          "yaxis": {
           "automargin": true,
           "gridcolor": "white",
           "linecolor": "white",
           "ticks": "",
           "title": {
            "standoff": 15
           },
           "zerolinecolor": "white",
           "zerolinewidth": 2
          }
         }
        },
        "xaxis": {
         "anchor": "y",
         "domain": [
          0,
          1
         ],
         "title": {
          "text": "x"
         }
        },
        "yaxis": {
         "anchor": "x",
         "domain": [
          0,
          1
         ],
         "title": {
          "text": "y"
         }
        }
       }
      }
     },
     "metadata": {},
     "output_type": "display_data"
    }
   ],
   "source": [
    "optimize_and_plot(schwefel_function, d = 10, domain = (-500, 500), popsize=100, maxfevals=10000, sigma=5)"
   ]
  },
  {
   "cell_type": "code",
   "execution_count": null,
   "metadata": {},
   "outputs": [],
   "source": []
  }
 ],
 "metadata": {
  "kernelspec": {
   "display_name": ".env",
   "language": "python",
   "name": "python3"
  },
  "language_info": {
   "codemirror_mode": {
    "name": "ipython",
    "version": 3
   },
   "file_extension": ".py",
   "mimetype": "text/x-python",
   "name": "python",
   "nbconvert_exporter": "python",
   "pygments_lexer": "ipython3",
   "version": "3.12.7"
  }
 },
 "nbformat": 4,
 "nbformat_minor": 2
}
