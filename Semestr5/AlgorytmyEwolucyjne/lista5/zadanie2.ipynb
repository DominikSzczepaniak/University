{
  "cells": [
    {
      "cell_type": "code",
      "execution_count": 6,
      "metadata": {
        "colab": {
          "base_uri": "https://localhost:8080/"
        },
        "id": "SlzdbmEcyHQh",
        "outputId": "e6c4616f-83cb-4438-fffa-a3486899c9e6"
      },
      "outputs": [
        {
          "name": "stdout",
          "output_type": "stream",
          "text": [
            "0.26865181564422547\n"
          ]
        }
      ],
      "source": [
        "from sklearn.datasets import load_diabetes\n",
        "from sklearn.ensemble import RandomForestRegressor\n",
        "import random\n",
        "import numpy as np\n",
        "from sklearn.model_selection import train_test_split\n",
        "from sklearn.metrics import r2_score\n",
        "\n",
        "\n",
        "random.seed(0)\n",
        "np.random.seed(0)\n",
        "\n",
        "# Load dataset\n",
        "X, y = load_diabetes(return_X_y=True)\n",
        "x_train, x_test, y_train, y_test = train_test_split(X, y, test_size=0.2, random_state=0)\n",
        "# Train Random Forest\n",
        "r = RandomForestRegressor()\n",
        "r.fit(x_train, y_train)\n",
        "print(r2_score(y_test, r.predict(x_test)))"
      ]
    },
    {
      "cell_type": "code",
      "execution_count": 11,
      "metadata": {},
      "outputs": [
        {
          "name": "stderr",
          "output_type": "stream",
          "text": [
            "/Users/dominik/Desktop/University/Semestr5/AlgorytmyEwolucyjne/lista5/.env/lib/python3.12/site-packages/deap/gp.py:254: RuntimeWarning: Ephemeral rand function cannot be pickled because its generating function is a lambda function. Use functools.partial instead.\n",
            "  warnings.warn(\"Ephemeral {name} function cannot be \"\n",
            "/Users/dominik/Desktop/University/Semestr5/AlgorytmyEwolucyjne/lista5/.env/lib/python3.12/site-packages/deap/creator.py:185: RuntimeWarning: A class named 'FitnessMax' has already been created and it will be overwritten. Consider deleting previous creation of that class or rename it.\n",
            "  warnings.warn(\"A class named '{0}' has already been created and it \"\n",
            "/Users/dominik/Desktop/University/Semestr5/AlgorytmyEwolucyjne/lista5/.env/lib/python3.12/site-packages/deap/creator.py:185: RuntimeWarning: A class named 'Individual' has already been created and it will be overwritten. Consider deleting previous creation of that class or rename it.\n",
            "  warnings.warn(\"A class named '{0}' has already been created and it \"\n"
          ]
        },
        {
          "name": "stdout",
          "output_type": "stream",
          "text": [
            "gen\tnevals\tavg     \tstd       \tmin    \tmax     \n",
            "0  \t50    \t0.256816\t0.00911257\t0.23719\t0.286963\n",
            "1  \t24    \t0.260597\t0.00947549\t0.226444\t0.286963\n",
            "2  \t31    \t0.260225\t0.0108163 \t0.225278\t0.280593\n",
            "3  \t30    \t0.261585\t0.0137027 \t0.205938\t0.2855  \n",
            "4  \t34    \t0.262875\t0.0134    \t0.227855\t0.287499\n",
            "5  \t30    \t0.263246\t0.0144062 \t0.218877\t0.287499\n",
            "6  \t30    \t0.261349\t0.0174305 \t0.224526\t0.287499\n",
            "7  \t36    \t0.265161\t0.0176257 \t0.218607\t0.293688\n",
            "8  \t31    \t0.270102\t0.0150256 \t0.23616 \t0.301103\n",
            "9  \t38    \t0.26651 \t0.0176929 \t0.220502\t0.300258\n",
            "10 \t29    \t0.270609\t0.017064  \t0.224079\t0.300258\n",
            "11 \t33    \t0.271385\t0.0169711 \t0.217566\t0.300258\n",
            "12 \t23    \t0.276369\t0.0155945 \t0.231021\t0.295937\n",
            "13 \t38    \t0.27605 \t0.0184236 \t0.213377\t0.297502\n",
            "14 \t29    \t0.277992\t0.0172498 \t0.22579 \t0.305733\n",
            "15 \t27    \t0.27804 \t0.0173448 \t0.235827\t0.295937\n",
            "16 \t31    \t0.27686 \t0.019193  \t0.234147\t0.297911\n",
            "17 \t36    \t0.268344\t0.0233197 \t0.223012\t0.298557\n",
            "18 \t23    \t0.280448\t0.018659  \t0.232718\t0.308114\n",
            "19 \t24    \t0.282027\t0.0185752 \t0.22911 \t0.308114\n",
            "20 \t26    \t0.283731\t0.0199053 \t0.234611\t0.308114\n",
            "Best individual (raw): multiply(protected_div(ARG3, ARG7), add(protected_div(-0.825602986642274, subtract(ARG1, multiply(tan(-0.04545618458102485), add(0.9583078813426966, ARG5)))), add(subtract(protected_div(-0.825602986642274, subtract(ARG1, sin(ARG3))), multiply(multiply(ARG5, ARG1), cos(ARG5))), protected_div(ARG6, ARG3))))\n",
            "Best individual (mathematical expression): multiply(protected_div(ARG3, ARG7), add(protected_div(-0.825602986642274, subtract(ARG1, multiply(-0.04548751864918946, add(0.9583078813426966, ARG5)))), add(subtract(protected_div(-0.825602986642274, subtract(ARG1, sin(ARG3))), multiply(multiply(ARG5, ARG1), cos(ARG5))), protected_div(ARG6, ARG3))))\n",
            "Final R^2 with best feature: 0.30811409211510776\n"
          ]
        }
      ],
      "source": [
        "from sklearn.datasets import load_diabetes\n",
        "from sklearn.ensemble import RandomForestRegressor\n",
        "from sklearn.model_selection import train_test_split\n",
        "from sklearn.metrics import r2_score\n",
        "import numpy as np\n",
        "import random\n",
        "from deap import base, creator, tools, gp\n",
        "from sympy import sympify\n",
        "\n",
        "X, y = load_diabetes(return_X_y=True)\n",
        "x_train, x_test, y_train, y_test = train_test_split(X, y, test_size=0.2, random_state=0)\n",
        "\n",
        "def protected_div(a, b):\n",
        "    return a / b if b != 0 else 1\n",
        "\n",
        "pset = gp.PrimitiveSet(\"MAIN\", X.shape[1])\n",
        "pset.addPrimitive(np.add, 2)\n",
        "pset.addPrimitive(np.subtract, 2)\n",
        "pset.addPrimitive(np.multiply, 2)\n",
        "pset.addPrimitive(protected_div, 2)\n",
        "pset.addPrimitive(np.sin, 1)\n",
        "pset.addPrimitive(np.cos, 1)\n",
        "pset.addPrimitive(np.tan, 1)\n",
        "pset.addEphemeralConstant(\"rand\", lambda: random.uniform(-1, 1))\n",
        "\n",
        "creator.create(\"FitnessMax\", base.Fitness, weights=(1.0,))\n",
        "creator.create(\"Individual\", gp.PrimitiveTree, fitness=creator.FitnessMax)\n",
        "\n",
        "toolbox = base.Toolbox()\n",
        "toolbox.register(\"expr\", gp.genHalfAndHalf, pset=pset, min_=1, max_=3)\n",
        "toolbox.register(\"individual\", tools.initIterate, creator.Individual, toolbox.expr)\n",
        "toolbox.register(\"population\", tools.initRepeat, list, toolbox.individual)\n",
        "\n",
        "toolbox.register(\"compile\", gp.compile, pset=pset)\n",
        "\n",
        "def eval_individual(individual):\n",
        "    func = toolbox.compile(expr=individual)\n",
        "    \n",
        "    try:\n",
        "        new_feature_train = np.array([func(*row) for row in x_train])\n",
        "        x_train_augmented = np.hstack((x_train, new_feature_train.reshape(-1, 1)))\n",
        "\n",
        "        new_feature_test = np.array([func(*row) for row in x_test])\n",
        "        x_test_augmented = np.hstack((x_test, new_feature_test.reshape(-1, 1)))\n",
        "\n",
        "        model = RandomForestRegressor(random_state=0)\n",
        "        model.fit(x_train_augmented, y_train)\n",
        "        predictions = model.predict(x_test_augmented)\n",
        "        return r2_score(y_test, predictions),\n",
        "    except Exception as e:\n",
        "        return -np.inf,  \n",
        "\n",
        "toolbox.register(\"evaluate\", eval_individual)\n",
        "toolbox.register(\"mate\", gp.cxOnePoint)\n",
        "toolbox.register(\"mutate\", gp.mutUniform, expr=toolbox.expr, pset=pset)\n",
        "toolbox.register(\"select\", tools.selTournament, tournsize=3)\n",
        "\n",
        "population = toolbox.population(n=50)\n",
        "hof = tools.HallOfFame(1)\n",
        "\n",
        "stats = tools.Statistics(lambda ind: ind.fitness.values)\n",
        "stats.register(\"avg\", np.mean)\n",
        "stats.register(\"std\", np.std)\n",
        "stats.register(\"min\", np.min)\n",
        "stats.register(\"max\", np.max)\n",
        "\n",
        "from deap import algorithms\n",
        "population, log = algorithms.eaSimple(\n",
        "    population, toolbox, cxpb=0.5, mutpb=0.2, ngen=20, stats=stats, halloffame=hof, verbose=True\n",
        ")\n",
        "\n",
        "best_individual = hof[0]\n",
        "print(\"Best individual (raw):\", best_individual)\n",
        "best_func = toolbox.compile(expr=best_individual)\n",
        "\n",
        "best_expression = str(best_individual)\n",
        "print(\"Best individual (mathematical expression):\", sympify(best_expression))\n",
        "\n",
        "new_feature_train = np.array([best_func(*row) for row in x_train])\n",
        "x_train_augmented = np.hstack((x_train, new_feature_train.reshape(-1, 1)))\n",
        "\n",
        "new_feature_test = np.array([best_func(*row) for row in x_test])\n",
        "x_test_augmented = np.hstack((x_test, new_feature_test.reshape(-1, 1)))\n",
        "\n",
        "model = RandomForestRegressor(random_state=0)\n",
        "model.fit(x_train_augmented, y_train)\n",
        "predictions = model.predict(x_test_augmented)\n",
        "final_r2 = r2_score(y_test, predictions)\n",
        "\n",
        "print(\"Final R^2 with best feature:\", final_r2)"
      ]
    },
    {
      "cell_type": "code",
      "execution_count": null,
      "metadata": {},
      "outputs": [],
      "source": []
    }
  ],
  "metadata": {
    "colab": {
      "provenance": []
    },
    "kernelspec": {
      "display_name": ".env",
      "language": "python",
      "name": "python3"
    },
    "language_info": {
      "codemirror_mode": {
        "name": "ipython",
        "version": 3
      },
      "file_extension": ".py",
      "mimetype": "text/x-python",
      "name": "python",
      "nbconvert_exporter": "python",
      "pygments_lexer": "ipython3",
      "version": "3.12.8"
    }
  },
  "nbformat": 4,
  "nbformat_minor": 0
}
