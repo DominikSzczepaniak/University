{
 "cells": [
  {
   "cell_type": "code",
   "execution_count": 1,
   "id": "initial_id",
   "metadata": {
    "collapsed": true,
    "jupyter": {
     "is_executing": true
    }
   },
   "outputs": [],
   "source": [
    "import numpy \n",
    "import pandas \n",
    "import sympy as sp\n",
    "import scipy \n",
    "import random\n",
    "import copy\n",
    "import tqdm"
   ]
  },
  {
   "cell_type": "code",
   "execution_count": null,
   "id": "e35716c3ddeaec87",
   "metadata": {},
   "outputs": [],
   "source": [
    "class GP:\n",
    "    def __init__(self, data: list):\n",
    "        \"\"\"\n",
    "        :param data: variables and last one is answer \n",
    "        \"\"\"\n",
    "        self.data = data\n",
    "        self.max_variables = len(data[0]) - 1\n",
    "        self.functions = [\"+\", \"-\", \"/\", \"*\", \"cos\", \"sin\", \"tan\", \"max\", \"min\", \"log\", \"exp\", \"%\", \"**\", \"sqrt\", \"abs\", \"floor\", \"ceil\"]\n",
    "        self.mutation_operations = [\"add_variable {number}\", \"add function\", \"add constant\"]\n",
    "        self.unary_functions = [\"cos\", \"sin\", \"tan\", \"log\", \"exp\", \"sqrt\", \"abs\", \"floor\", \"ceil\"]\n",
    "        \n",
    "    def create_tree(self, max_depth=0):\n",
    "        \"\"\"Randomly create a tree.\"\"\"\n",
    "        if max_depth == 0:\n",
    "            if random.random() > 0.5:\n",
    "                return f\"x{random.randint(1, self.max_variables)}\"\n",
    "            else:\n",
    "                return random.uniform(-10, 10)  \n",
    "        else:\n",
    "            func = random.choice(self.functions)\n",
    "            if func in self.unary_functions:\n",
    "                return [func, self.create_tree(max_depth - 1)]\n",
    "            else:\n",
    "                return [func, self.create_tree(max_depth - 1), self.create_tree(max_depth - 1)]\n",
    "    \n",
    "    def tree_to_sympy(self, tree):\n",
    "        \"\"\"Convert tree to sympy expression.\"\"\"\n",
    "        if isinstance(tree, str):  \n",
    "            return sp.Symbol(tree)\n",
    "        elif isinstance(tree, (int, float)):  \n",
    "            return sp.Float(tree)\n",
    "        elif isinstance(tree, list):  \n",
    "            func = tree[0]\n",
    "            args = [self.tree_to_sympy(arg) for arg in tree[1:]]\n",
    "            \n",
    "            operator_map = {\n",
    "                \"+\": sp.Add,\n",
    "                \"*\": sp.Mul,\n",
    "                \"**\": sp.Pow,\n",
    "                \"%\": sp.Mod,\n",
    "                \"max\": sp.Max,\n",
    "                \"min\": sp.Min\n",
    "            }\n",
    "            \n",
    "            if func in operator_map:\n",
    "                return operator_map[func](*args)\n",
    "            elif func == \"-\":\n",
    "                return sp.Add(args[0], -args[1])  \n",
    "            elif func == \"/\":\n",
    "                return sp.Mul(args[0], sp.Pow(args[1], -1))  \n",
    "\n",
    "            return getattr(sp, func)(*args) if hasattr(sp, func) else sp.Function(func)(*args)\n",
    "\n",
    "    def is_valid_expression(self, sympy_expr):\n",
    "        \"\"\"Check if a sympy expression is valid.\"\"\"\n",
    "        try:\n",
    "            test_values = {f\"x{i}\": 1 for i in range(1, self.max_variables + 1)}\n",
    "            value = sympy_expr.subs(test_values).evalf()\n",
    "            return not value.has(sp.S.ComplexInfinity) and not value.is_infinite\n",
    "        except Exception:\n",
    "            return False  \n",
    "\n",
    "\n",
    "    def evaluate_tree(self, tree):\n",
    "        \"\"\"Evaluate the tree across the dataset.\"\"\"\n",
    "        try:\n",
    "            sympy_expr = self.tree_to_sympy(tree)\n",
    "            if not self.is_valid_expression(sympy_expr):\n",
    "                return float('inf')\n",
    "            f = sp.lambdify([f\"x{i}\" for i in range(1, self.max_variables + 1)], sp.sympify(sympy_expr), \"numpy\")\n",
    "            scores = []\n",
    "            for row in self.data:\n",
    "                inputs, target = row[:-1], row[-1]\n",
    "                try:\n",
    "                    prediction = f(*inputs)\n",
    "                    if numpy.isnan(prediction):\n",
    "                        raise Exception\n",
    "                    scores.append(abs(prediction - target))  \n",
    "                except Exception:\n",
    "                    scores.append(float('inf'))  \n",
    "            return numpy.mean(scores)\n",
    "        except Exception:\n",
    "            return float('inf')  \n",
    "\n",
    "    \n",
    "    def mutate_tree(self, tree):\n",
    "        \"\"\"Mutate the tree.\"\"\"\n",
    "        func = random.choice(self.functions)\n",
    "        if(func in self.unary_functions):\n",
    "            return [func, tree]\n",
    "        \n",
    "        mutation_type = random.choice([\"add_variable\", \"add_constant\"])\n",
    "        addition = f\"x{random.randint(1, self.max_variables)}\" if mutation_type == \"add_variable\" else random.uniform(-10, 10)\n",
    "        return [func, tree, addition]\n",
    "\n",
    "    def crossover_trees(self, tree1, tree2):\n",
    "        \"\"\"Perform crossover between two trees by swapping random subtrees.\"\"\"\n",
    "        def select_random_subtree(tree, path=None):\n",
    "            \"\"\"Randomly select a subtree in the tree.\"\"\"\n",
    "            if path is None:\n",
    "                path = []\n",
    "            if not isinstance(tree, list):\n",
    "                return tree, path  \n",
    "            if random.random() < 0.5 or len(tree) == 1:  \n",
    "                return tree, path\n",
    "            else:\n",
    "                child_index = random.randint(0, len(tree) - 1)\n",
    "                return select_random_subtree(tree[child_index], path + [child_index])\n",
    "\n",
    "        def replace_subtree(tree, path, new_subtree):\n",
    "            \"\"\"Replace a subtree at the given path with a new subtree.\"\"\"\n",
    "            if not path:  \n",
    "                return new_subtree\n",
    "            subtree = tree\n",
    "            for i in path[:-1]:  \n",
    "                subtree = subtree[i]\n",
    "            subtree[path[-1]] = new_subtree\n",
    "            return tree\n",
    "\n",
    "        subtree1, path1 = select_random_subtree(tree1)\n",
    "        subtree2, path2 = select_random_subtree(tree2)\n",
    "\n",
    "        new_tree1 = copy.deepcopy(tree1)\n",
    "        new_tree2 = copy.deepcopy(tree2)\n",
    "        new_tree1 = replace_subtree(new_tree1, path1, subtree2)\n",
    "        new_tree2 = replace_subtree(new_tree2, path2, subtree1)\n",
    "\n",
    "        return new_tree1, new_tree2\n",
    "\n",
    "\n",
    "    def run(self, population_size, offspring_size, num_generations):\n",
    "        \"\"\"Run the genetic programming algorithm.\"\"\"\n",
    "        assert offspring_size >= population_size\n",
    "\n",
    "        population = [self.create_tree() for _ in range(population_size)]\n",
    "        best_tree = None \n",
    "        best_score = float('inf')\n",
    "\n",
    "        def tournament_selection(scored_population, tournament_size):\n",
    "            \"\"\"Perform tournament selection.\"\"\"\n",
    "            selected = []\n",
    "            for _ in range(population_size // 2):  \n",
    "                tournament = random.sample(scored_population, tournament_size)\n",
    "                winner = min(tournament, key=lambda x: x[1])  \n",
    "                selected.append(winner[0])\n",
    "            return selected\n",
    "\n",
    "        for generation in tqdm.tqdm(range(num_generations)):\n",
    "            try:\n",
    "                print(f\"Generation {generation + 1}\")\n",
    "\n",
    "                scored_population = [(tree, self.evaluate_tree(tree)) for tree in population]\n",
    "                scored_population.sort(key=lambda x: x[1])\n",
    "\n",
    "                selected = tournament_selection(scored_population, 3)\n",
    "                \n",
    "                offspring = []\n",
    "                while len(offspring) < offspring_size:\n",
    "                    parent1, parent2 = random.sample(selected, 2)\n",
    "                    child1, child2 = copy.deepcopy(parent1), copy.deepcopy(parent2)\n",
    "                    child1, child2 = self.crossover_trees(child1, child2)\n",
    "                    child1 = self.mutate_tree(child1)\n",
    "                    child2 = self.mutate_tree(child2)\n",
    "                    if child1 in offspring or child2 in offspring:\n",
    "                        continue\n",
    "                    offspring.extend([child1, child2])\n",
    "\n",
    "                offspring_evaluation = [(tree, self.evaluate_tree(tree)) for tree in offspring]\n",
    "                sorted_offspring = sorted(offspring_evaluation, key=lambda x: x[1])\n",
    "                population = selected + [tree for tree, _ in sorted_offspring if tree not in selected]\n",
    "                population.sort(key=lambda x: self.evaluate_tree(x))\n",
    "                population = population[:population_size]\n",
    "                top1score = self.evaluate_tree(population[0])\n",
    "                if top1score < best_score:\n",
    "                    best_tree, best_score = population[0], top1score\n",
    "            except KeyboardInterrupt:\n",
    "                break\n",
    "\n",
    "        final_population = [(tree, self.evaluate_tree(tree)) for tree in population]\n",
    "        final_population.sort(key=lambda x: x[1])\n",
    "        print(f\"Best tree: {best_tree} with score: {best_score}\")\n",
    "        return best_tree, best_score\n",
    "\n",
    "        "
   ]
  },
  {
   "cell_type": "code",
   "execution_count": 10,
   "id": "eda65056",
   "metadata": {},
   "outputs": [],
   "source": [
    "def open_dataset(file_path):\n",
    "    table = []\n",
    "    with open(file_path, 'r') as file:\n",
    "        rows = file.readlines()\n",
    "\n",
    "    for row in rows:\n",
    "        values = list(map(float, row.split()))\n",
    "        table.append(values)\n",
    "\n",
    "    return table\n",
    "\n",
    "import warnings\n",
    "warnings.filterwarnings('ignore')\n",
    "\n",
    "def run_gp(problem_name):\n",
    "    train_data = open_dataset(\"train/\" + problem_name + \".txt\")\n",
    "    validate_data = open_dataset(\"validate/\" + problem_name + \".txt\")\n",
    "    gp = GP(train_data)\n",
    "    best_tree, best_score = gp.run(50, 700, 10)\n",
    "    print(f\"Best tree: {best_tree} with score: {best_score}\")\n",
    "    scores_for_validation = []\n",
    "    for data in validate_data:\n",
    "        argument = data[:-1]\n",
    "        target = data[-1]\n",
    "        sympy_expr = gp.tree_to_sympy(best_tree)\n",
    "        f = sp.lambdify([f\"x{i}\" for i in range(1, gp.max_variables + 1)], sp.sympify(sympy_expr), \"numpy\")\n",
    "        prediction = f(*argument)\n",
    "        scores_for_validation.append(abs(prediction - target))\n",
    "    print(f\"Mean score for validation: {numpy.mean(scores_for_validation)}\")"
   ]
  },
  {
   "cell_type": "code",
   "execution_count": 13,
   "id": "25232ec1",
   "metadata": {},
   "outputs": [
    {
     "name": "stderr",
     "output_type": "stream",
     "text": [
      "  0%|          | 0/10 [00:00<?, ?it/s]"
     ]
    },
    {
     "name": "stdout",
     "output_type": "stream",
     "text": [
      "Generation 1\n"
     ]
    },
    {
     "name": "stderr",
     "output_type": "stream",
     "text": [
      " 10%|█         | 1/10 [03:13<29:02, 193.56s/it]"
     ]
    },
    {
     "name": "stdout",
     "output_type": "stream",
     "text": [
      "Generation 2\n"
     ]
    },
    {
     "name": "stderr",
     "output_type": "stream",
     "text": [
      " 20%|██        | 2/10 [04:00<14:20, 107.51s/it]"
     ]
    },
    {
     "name": "stdout",
     "output_type": "stream",
     "text": [
      "Generation 3\n"
     ]
    },
    {
     "name": "stderr",
     "output_type": "stream",
     "text": [
      " 30%|███       | 3/10 [06:20<14:15, 122.22s/it]"
     ]
    },
    {
     "name": "stdout",
     "output_type": "stream",
     "text": [
      "Generation 4\n"
     ]
    },
    {
     "name": "stderr",
     "output_type": "stream",
     "text": [
      " 40%|████      | 4/10 [09:01<13:44, 137.43s/it]"
     ]
    },
    {
     "name": "stdout",
     "output_type": "stream",
     "text": [
      "Generation 5\n"
     ]
    },
    {
     "name": "stderr",
     "output_type": "stream",
     "text": [
      " 50%|█████     | 5/10 [10:42<10:22, 124.52s/it]"
     ]
    },
    {
     "name": "stdout",
     "output_type": "stream",
     "text": [
      "Generation 6\n"
     ]
    },
    {
     "name": "stderr",
     "output_type": "stream",
     "text": [
      " 60%|██████    | 6/10 [12:33<07:58, 119.66s/it]"
     ]
    },
    {
     "name": "stdout",
     "output_type": "stream",
     "text": [
      "Generation 7\n"
     ]
    },
    {
     "name": "stderr",
     "output_type": "stream",
     "text": [
      " 70%|███████   | 7/10 [15:52<07:16, 145.59s/it]"
     ]
    },
    {
     "name": "stdout",
     "output_type": "stream",
     "text": [
      "Generation 8\n"
     ]
    },
    {
     "name": "stderr",
     "output_type": "stream",
     "text": [
      " 80%|████████  | 8/10 [17:21<04:15, 127.59s/it]"
     ]
    },
    {
     "name": "stdout",
     "output_type": "stream",
     "text": [
      "Generation 9\n"
     ]
    },
    {
     "name": "stderr",
     "output_type": "stream",
     "text": [
      " 90%|█████████ | 9/10 [19:44<02:12, 132.64s/it]"
     ]
    },
    {
     "name": "stdout",
     "output_type": "stream",
     "text": [
      "Generation 10\n"
     ]
    },
    {
     "name": "stderr",
     "output_type": "stream",
     "text": [
      "100%|██████████| 10/10 [24:54<00:00, 149.42s/it]\n"
     ]
    },
    {
     "name": "stdout",
     "output_type": "stream",
     "text": [
      "Best tree: ['+', ['*', 'x1', 'x2'], 'x3'] with score: 1.6801948735754466e-07\n",
      "Best tree: ['+', ['*', 'x1', 'x2'], 'x3'] with score: 1.6801948735754466e-07\n",
      "Mean score for validation: 1.5515631046720755e-07\n"
     ]
    }
   ],
   "source": [
    "run_gp(\"easy-I.12.5\")"
   ]
  },
  {
   "cell_type": "code",
   "execution_count": 4,
   "id": "db32d8c0950d5aa1",
   "metadata": {},
   "outputs": [
    {
     "name": "stderr",
     "output_type": "stream",
     "text": [
      "  0%|          | 0/10 [00:00<?, ?it/s]"
     ]
    },
    {
     "name": "stdout",
     "output_type": "stream",
     "text": [
      "Generation 1\n"
     ]
    },
    {
     "name": "stderr",
     "output_type": "stream",
     "text": [
      " 10%|█         | 1/10 [03:33<32:03, 213.68s/it]"
     ]
    },
    {
     "name": "stdout",
     "output_type": "stream",
     "text": [
      "Generation 2\n"
     ]
    },
    {
     "name": "stderr",
     "output_type": "stream",
     "text": [
      " 20%|██        | 2/10 [04:55<18:07, 135.93s/it]"
     ]
    },
    {
     "name": "stdout",
     "output_type": "stream",
     "text": [
      "Generation 3\n"
     ]
    },
    {
     "name": "stderr",
     "output_type": "stream",
     "text": [
      " 30%|███       | 3/10 [06:10<12:36, 108.13s/it]"
     ]
    },
    {
     "name": "stdout",
     "output_type": "stream",
     "text": [
      "Generation 4\n"
     ]
    },
    {
     "name": "stderr",
     "output_type": "stream",
     "text": [
      " 40%|████      | 4/10 [07:38<10:00, 100.13s/it]"
     ]
    },
    {
     "name": "stdout",
     "output_type": "stream",
     "text": [
      "Generation 5\n"
     ]
    },
    {
     "name": "stderr",
     "output_type": "stream",
     "text": [
      " 50%|█████     | 5/10 [08:15<06:27, 77.41s/it] "
     ]
    },
    {
     "name": "stdout",
     "output_type": "stream",
     "text": [
      "['+', ['+', ['+', ['max', ['*', 'x2', 'x1'], ['*', 'x2', 'x1']], 'x3'], 'x3'], 'x3']\n",
      "['+', ['*', 'x2', 'x1'], 'x3']\n",
      "['+', ['max', ['*', 'x2', 'x1'], ['*', 'x2', 'x1']], 'x3']\n",
      "['+', ['max', ['*', 'x2', 'x1'], ['*', 'x2', 'x1']], 'x3']\n",
      "['*', 'x2', 'x1']\n",
      "['*', 'x2', 'x1']\n",
      "['*', 'x1', 'x2']\n",
      "['*', 'x2', 'x1']\n",
      "['*', 'x2', 'x1']\n",
      "['*', 'x1', 'x2']\n",
      "['*', 'x1', 'x2']\n",
      "['-', ['+', ['max', ['*', 'x2', 'x1'], ['*', 'x2', 'x1']], 'x3'], 'x3']\n",
      "['-', ['*', 'x1', 'x2'], 'x3']\n",
      "['-', ['*', 'x2', 'x1'], 'x3']\n",
      "['-', ['-', ['*', 'x1', 'x2'], 'x3'], 'x3']\n",
      "['-', ['-', ['*', 'x1', 'x2'], 'x3'], 'x3']\n",
      "['+', ['*', 'x1', 'x2'], -0.13806016506189245]\n",
      "['+', ['floor', ['floor', ['*', 'x1', 'x2']]], 0.9420711064528717]\n",
      "['+', ['floor', ['floor', ['*', 'x1', 'x2']]], 0.9420711064528717]\n",
      "['-', ['+', ['floor', ['floor', ['*', 'x1', 'x2']]], 0.9420711064528717], 'x3']\n",
      "['-', ['floor', ['+', ['floor', ['floor', ['*', 'x1', 'x2']]], 0.9420711064528717]], -0.023130017440378126]\n",
      "['-', ['floor', ['+', ['floor', ['floor', ['*', 'x1', 'x2']]], 0.9420711064528717]], -0.023130017440378126]\n",
      "['-', ['floor', ['+', ['floor', ['floor', ['*', 'x1', 'x2']]], 0.9420711064528717]], -0.023130017440378126]\n",
      "['-', ['floor', ['*', 'x1', 'x2']], 'x3']\n",
      "['floor', ['*', 'x2', 'x1']]\n",
      "['floor', ['max', ['*', 'x2', 'x1'], ['*', 'x2', 'x1']]]\n",
      "['ceil', ['ceil', ['floor', ['floor', ['*', 'x1', 'x2']]]]]\n",
      "['floor', ['*', 'x1', 'x2']]\n",
      "['floor', ['+', ['+', ['+', ['max', ['*', 'x2', 'x1'], ['*', 'x2', 'x1']], 'x3'], 'x3'], 'x3']]\n",
      "['floor', ['floor', ['-', ['floor', ['+', ['floor', ['floor', ['*', 'x1', 'x2']]], 0.9420711064528717]], -0.023130017440378126]]]\n",
      "['+', ['-', ['floor', ['*', 'x1', 'x2']], '-'], 'x3']\n",
      "['floor', ['+', ['floor', ['floor', ['*', 'x1', 'x2']]], 0.9420711064528717]]\n",
      "['ceil', ['floor', ['*', 'x1', 'x2']]]\n",
      "['floor', ['-', ['-', ['*', 'x1', 'x2'], 'x3'], 'x3']]\n",
      "['ceil', ['floor', ['max', ['*', 'x2', 'x1'], ['*', 'x2', 'x1']]]]\n",
      "['ceil', ['floor', ['+', ['floor', ['floor', ['*', 'x1', 'x2']]], 0.9420711064528717]]]\n",
      "['floor', ['+', ['max', ['*', 'x2', 'x1'], ['*', 'x2', 'x1']], 'x3']]\n",
      "['+', ['ceil', ['ceil', ['floor', ['floor', ['*', 'x1', 'x2']]]]], 'x3']\n",
      "['ceil', ['floor', ['floor', ['floor', ['*', 'x1', 'x2']]]]]\n",
      "['ceil', ['floor', ['floor', ['*', 'x1', 'x2']]]]\n",
      "['floor', ['floor', ['max', ['*', 'x2', 'x1'], ['*', 'x2', 'x1']]]]\n",
      "['floor', ['-', ['*', 'x1', 'x2'], 'x3']]\n",
      "['floor', ['floor', ['+', ['floor', ['floor', ['*', 'x1', 'x2']]], 0.9420711064528717]]]\n",
      "['floor', ['+', ['-', ['*', 'x1', 'x2'], 'x3'], 'x3']]\n",
      "['ceil', ['-', ['floor', ['*', 'x1', 'x2']], 'x3']]\n",
      "['ceil', ['-', ['*', 'x1', 'x2'], 'x3']]\n",
      "['ceil', ['+', ['+', ['+', ['max', ['*', 'x2', 'x1'], ['*', 'x2', 'x1']], 'x3'], 'x3'], 'x3']]\n",
      "['ceil', ['-', ['-', ['*', 'x1', 'x2'], 'x3'], 'x3']]\n",
      "['ceil', ['*', 'x1', 'x2']]\n",
      "Generation 6\n"
     ]
    },
    {
     "name": "stderr",
     "output_type": "stream",
     "text": [
      " 60%|██████    | 6/10 [11:03<07:13, 108.31s/it]"
     ]
    },
    {
     "name": "stdout",
     "output_type": "stream",
     "text": [
      "Generation 7\n"
     ]
    },
    {
     "name": "stderr",
     "output_type": "stream",
     "text": [
      " 70%|███████   | 7/10 [11:33<04:08, 82.79s/it] "
     ]
    },
    {
     "name": "stdout",
     "output_type": "stream",
     "text": [
      "Generation 8\n"
     ]
    },
    {
     "name": "stderr",
     "output_type": "stream",
     "text": [
      " 80%|████████  | 8/10 [11:58<02:08, 64.18s/it]"
     ]
    },
    {
     "name": "stdout",
     "output_type": "stream",
     "text": [
      "Generation 9\n"
     ]
    },
    {
     "name": "stderr",
     "output_type": "stream",
     "text": [
      " 90%|█████████ | 9/10 [12:15<00:49, 49.41s/it]"
     ]
    },
    {
     "name": "stdout",
     "output_type": "stream",
     "text": [
      "Generation 10\n"
     ]
    },
    {
     "name": "stderr",
     "output_type": "stream",
     "text": [
      "100%|██████████| 10/10 [13:53<00:00, 83.38s/it]\n"
     ]
    },
    {
     "name": "stdout",
     "output_type": "stream",
     "text": [
      "Best tree: ['/', ['+', ['+', ['*', 'x2', ['+', ['+', ['*', 'x1', 'x2'], 'x3'], 'x3']], 'x3'], 'x3'], 'x2'] with score: 1.6801948735230928e-07\n",
      "-0.09634144647592272 -0.09634145349264145\n"
     ]
    }
   ],
   "source": [
    "data_test = open_dataset(\"train/easy-I.12.5.txt\")\n",
    "gp = GP(data_test)\n",
    "best_tree, best_score = gp.run(50, 700, 10)\n",
    "#should be [*, x1, x2] and x3 ignored\n",
    "sympy_expr = gp.tree_to_sympy(best_tree)\n",
    "f = sp.lambdify([f\"x{i}\" for i in range(1, len(data_test[0]))], sp.sympify(sympy_expr), \"numpy\")\n",
    "print(f(*data_test[0][:-1]), data_test[0][-1])"
   ]
  },
  {
   "cell_type": "code",
   "execution_count": 5,
   "id": "598528bc",
   "metadata": {},
   "outputs": [
    {
     "name": "stderr",
     "output_type": "stream",
     "text": [
      "  0%|          | 0/10 [00:00<?, ?it/s]"
     ]
    },
    {
     "name": "stdout",
     "output_type": "stream",
     "text": [
      "Generation 1\n"
     ]
    },
    {
     "name": "stderr",
     "output_type": "stream",
     "text": [
      " 10%|█         | 1/10 [02:25<21:49, 145.47s/it]"
     ]
    },
    {
     "name": "stdout",
     "output_type": "stream",
     "text": [
      "Generation 2\n"
     ]
    },
    {
     "name": "stderr",
     "output_type": "stream",
     "text": [
      " 20%|██        | 2/10 [05:31<22:35, 169.42s/it]"
     ]
    },
    {
     "name": "stdout",
     "output_type": "stream",
     "text": [
      "Generation 3\n"
     ]
    },
    {
     "name": "stderr",
     "output_type": "stream",
     "text": [
      " 30%|███       | 3/10 [07:11<16:04, 137.75s/it]"
     ]
    },
    {
     "name": "stdout",
     "output_type": "stream",
     "text": [
      "Generation 4\n"
     ]
    },
    {
     "name": "stderr",
     "output_type": "stream",
     "text": [
      " 40%|████      | 4/10 [07:47<09:44, 97.45s/it] "
     ]
    },
    {
     "name": "stdout",
     "output_type": "stream",
     "text": [
      "Generation 5\n"
     ]
    },
    {
     "name": "stderr",
     "output_type": "stream",
     "text": [
      " 50%|█████     | 5/10 [09:41<08:38, 103.64s/it]"
     ]
    },
    {
     "name": "stdout",
     "output_type": "stream",
     "text": [
      "['ceil', ['*', ['*', ['sin', 'x4'], 'x2'], 'x1']]\n",
      "['ceil', ['*', ['-', ['*', ['sin', ['sin', 'x4']], 'x1'], 'x3'], 'x2']]\n",
      "['ceil', ['*', ['-', ['*', ['sin', ['sin', 'x4']], 'x1'], 'x3'], 'x2']]\n",
      "['*', ['max', ['*', ['sin', ['sin', ['sin', 'x4']]], 'x1'], -3.0834215952820436], 'x2']\n",
      "['max', ['*', ['-', ['*', ['sin', ['sin', 'x4']], 'x1'], 'x3'], 'x2'], -3.9749103970376742]\n",
      "['ceil', ['min', ['*', ['*', ['sin', 'x4'], 'x2'], 'x1'], 7.279882934158493]]\n",
      "['min', ['ceil', ['*', ['-', ['*', ['sin', ['sin', 'x4']], 'x1'], 'x3'], 'x2']], 9.108018525093051]\n",
      "['min', ['ceil', ['*', ['-', ['*', ['sin', ['sin', 'x4']], 'x1'], 'x3'], 'x2']], 7.382936752647609]\n",
      "['/', ['*', ['ceil', ['*', ['-', ['*', ['sin', ['sin', 'x4']], 'x1'], 'x3'], 'x2']], 'x1'], 6.632369660367594]\n",
      "['floor', ['min', ['*', ['sin', ['sin', 'x4']], 'x1'], ['ceil', ['*', ['-', ['*', ['sin', ['sin', 'x4']], 'x1'], 'x3'], 'x2']]]]\n",
      "['-', ['ceil', ['*', ['-', ['*', ['sin', ['sin', 'x4']], 'x1'], 'x3'], 'x2']], -1.662732713404285]\n",
      "['+', ['+', ['*', ['sin', 'x4'], 'x2'], ['*', ['+', ['sin', 'x4'], 'x3'], 'x1']], 'x3']\n",
      "['+', ['ceil', ['*', ['-', ['*', ['sin', ['sin', 'x4']], 'x1'], 'x3'], 'x2']], 1.6909795189815657]\n",
      "['-', ['min', ['*', ['sin', 'x4'], 'x1'], 'x2'], 'x3']\n",
      "['min', ['*', ['sin', 'x4'], 'x1'], 'x2']\n",
      "['min', ['*', ['sin', 'x4'], 'x1'], 'x2']\n",
      "['min', ['min', ['*', ['sin', 'x4'], 'x1'], 'x2'], 'x2']\n",
      "['-', ['min', ['*', ['sin', 'x4'], 'x2'], 'x1'], 'x3']\n",
      "['-', ['min', ['*', ['sin', 'x4'], 'x2'], 'x1'], 'x3']\n",
      "['min', ['*', ['sin', 'x4'], 'x2'], 'x1']\n",
      "['min', ['*', ['sin', 'x4'], 'x2'], 'x1']\n",
      "['min', ['*', ['sin', 'x4'], 'x2'], 'x1']\n",
      "['min', ['min', ['*', ['sin', 'x4'], 'x2'], 'x1'], 7.279882934158493]\n",
      "['min', ['+', ['*', ['sin', 'x4'], 'x2'], ['sin', ['sin', ['sin', 'x4']]]], 'x1']\n",
      "['min', ['min', ['min', ['*', ['sin', 'x4'], 'x2'], 'x1'], 7.279882934158493], 3.854214119401206]\n",
      "['min', ['*', ['sin', ['sin', 'x4']], 'x1'], 'x2']\n",
      "['*', ['sin', ['*', 'x4']], 'x1']\n",
      "['*', ['sin', ['*', 'x4']], 'x1']\n",
      "['*', ['+', ['sin', 'x4'], 'x3'], 'x1']\n",
      "['*', ['+', ['sin', 'x4'], 'x3'], 'x1']\n",
      "['min', ['*', ['sin', ['sin', 'x4']], 'x1'], 'x1']\n",
      "['*', ['sin', ['sin', 'x4']], 'x1']\n",
      "['*', ['sin', ['sin', 'x4']], 'x1']\n",
      "['*', ['sin', ['sin', 'x4']], 'x1']\n",
      "['min', ['*', ['sin', ['sin', 'x4']], 'x1'], 6.812167294554293]\n",
      "['min', ['*', ['sin', ['sin', ['sin', 'x4']]], 'x1'], 'x2']\n",
      "['min', ['+', ['*', ['sin', 'x4'], 'x2'], 'x3'], 9.042234152181795]\n",
      "['*', ['sin', 'x4'], 'x2']\n",
      "['+', ['*', ['sin', 'x4'], 'x2'], 'x3']\n",
      "['min', ['min', ['*', ['sin', 'x4'], 'x1'], 'x2'], 2.553780533380742]\n",
      "['*', ['sin', ['sin', ['sin', 'x4']]], 'x1']\n",
      "['*', ['sin', ['sin', ['sin', 'x4']]], 'x1']\n",
      "['*', ['sin', ['sin', ['sin', 'x4']]], 'x1']\n",
      "['min', ['*', ['sin', ['sin', ['sin', 'x4']]], 'x1'], 'x1']\n",
      "['*', ['sin', ['sin', 'x4']], 'x2']\n",
      "['min', ['*', ['sin', ['sin', ['sin', 'x4']]], 'x1'], 4.689881869203035]\n",
      "['ceil', ['min', ['*', ['sin', 'x4'], 'x1'], ['-', ['min', ['*', ['sin', 'x4'], 'x2'], 'x1'], 'x3']]]\n",
      "['min', ['-', ['min', ['*', ['sin', 'x4'], 'x2'], 'x1'], 'x3'], 'x4']\n",
      "['min', ['*', ['sin', 'x4'], 'x2'], 'x4']\n",
      "Generation 6\n"
     ]
    },
    {
     "name": "stderr",
     "output_type": "stream",
     "text": [
      " 60%|██████    | 6/10 [10:59<06:18, 94.59s/it] "
     ]
    },
    {
     "name": "stdout",
     "output_type": "stream",
     "text": [
      "Generation 7\n"
     ]
    },
    {
     "name": "stderr",
     "output_type": "stream",
     "text": [
      " 70%|███████   | 7/10 [14:32<06:40, 133.61s/it]"
     ]
    },
    {
     "name": "stdout",
     "output_type": "stream",
     "text": [
      "Generation 8\n"
     ]
    },
    {
     "name": "stderr",
     "output_type": "stream",
     "text": [
      " 80%|████████  | 8/10 [16:37<04:21, 130.82s/it]"
     ]
    },
    {
     "name": "stdout",
     "output_type": "stream",
     "text": [
      "Generation 9\n"
     ]
    },
    {
     "name": "stderr",
     "output_type": "stream",
     "text": [
      " 90%|█████████ | 9/10 [18:19<02:01, 121.66s/it]"
     ]
    },
    {
     "name": "stdout",
     "output_type": "stream",
     "text": [
      "Generation 10\n"
     ]
    },
    {
     "name": "stderr",
     "output_type": "stream",
     "text": [
      "100%|██████████| 10/10 [19:10<00:00, 115.09s/it]\n"
     ]
    },
    {
     "name": "stdout",
     "output_type": "stream",
     "text": [
      "Best tree: ['+', ['*', ['*', ['*', ['*', ['sin', 'x4'], 'x2'], 'x1']]], 'x3'] with score: 2.1928592598622905e-06\n",
      "-0.07179479421010175 -0.07179489731788635\n"
     ]
    }
   ],
   "source": [
    "data_test = open_dataset(\"train/easy-I.18.12.txt\")\n",
    "gp = GP(data_test)\n",
    "best_tree, best_score = gp.run(50, 700, 10)\n",
    "#should be [*, x1, x2, [sin, x4]] and x3 ignored\n",
    "sympy_expr = gp.tree_to_sympy(best_tree)\n",
    "f = sp.lambdify([f\"x{i}\" for i in range(1, len(data_test[0]))], sp.sympify(sympy_expr), \"numpy\")\n",
    "print(f(*data_test[0][:-1]), data_test[0][-1])"
   ]
  },
  {
   "cell_type": "code",
   "execution_count": 14,
   "id": "2f9e7266",
   "metadata": {},
   "outputs": [
    {
     "name": "stderr",
     "output_type": "stream",
     "text": [
      "  0%|          | 0/10 [00:00<?, ?it/s]"
     ]
    },
    {
     "name": "stdout",
     "output_type": "stream",
     "text": [
      "Generation 1\n"
     ]
    },
    {
     "name": "stderr",
     "output_type": "stream",
     "text": [
      " 10%|█         | 1/10 [00:31<04:46, 31.88s/it]"
     ]
    },
    {
     "name": "stdout",
     "output_type": "stream",
     "text": [
      "Generation 2\n"
     ]
    },
    {
     "name": "stderr",
     "output_type": "stream",
     "text": [
      " 20%|██        | 2/10 [03:55<17:42, 132.86s/it]"
     ]
    },
    {
     "name": "stdout",
     "output_type": "stream",
     "text": [
      "Generation 3\n"
     ]
    },
    {
     "name": "stderr",
     "output_type": "stream",
     "text": [
      " 30%|███       | 3/10 [05:28<13:24, 114.87s/it]"
     ]
    },
    {
     "name": "stdout",
     "output_type": "stream",
     "text": [
      "Generation 4\n"
     ]
    },
    {
     "name": "stderr",
     "output_type": "stream",
     "text": [
      " 40%|████      | 4/10 [07:32<11:48, 118.14s/it]"
     ]
    },
    {
     "name": "stdout",
     "output_type": "stream",
     "text": [
      "Generation 5\n"
     ]
    },
    {
     "name": "stderr",
     "output_type": "stream",
     "text": [
      " 50%|█████     | 5/10 [08:58<08:53, 106.60s/it]"
     ]
    },
    {
     "name": "stdout",
     "output_type": "stream",
     "text": [
      "Generation 6\n"
     ]
    },
    {
     "name": "stderr",
     "output_type": "stream",
     "text": [
      " 60%|██████    | 6/10 [09:56<06:00, 90.07s/it] "
     ]
    },
    {
     "name": "stdout",
     "output_type": "stream",
     "text": [
      "Generation 7\n"
     ]
    },
    {
     "name": "stderr",
     "output_type": "stream",
     "text": [
      " 70%|███████   | 7/10 [11:50<04:54, 98.07s/it]"
     ]
    },
    {
     "name": "stdout",
     "output_type": "stream",
     "text": [
      "Generation 8\n"
     ]
    },
    {
     "name": "stderr",
     "output_type": "stream",
     "text": [
      " 80%|████████  | 8/10 [13:49<03:29, 104.57s/it]"
     ]
    },
    {
     "name": "stdout",
     "output_type": "stream",
     "text": [
      "Generation 9\n"
     ]
    },
    {
     "name": "stderr",
     "output_type": "stream",
     "text": [
      " 90%|█████████ | 9/10 [15:48<01:49, 109.21s/it]"
     ]
    },
    {
     "name": "stdout",
     "output_type": "stream",
     "text": [
      "Generation 10\n"
     ]
    },
    {
     "name": "stderr",
     "output_type": "stream",
     "text": [
      "100%|██████████| 10/10 [18:26<00:00, 110.63s/it]\n"
     ]
    },
    {
     "name": "stdout",
     "output_type": "stream",
     "text": [
      "Best tree: ['*', ['ceil', 'x2'], 'x1'] with score: 5.418158217819037\n",
      "-1.2815875740797322 -1.261507643692644\n"
     ]
    }
   ],
   "source": [
    "data_test = open_dataset(\"train/medium-I-12.11.txt\")\n",
    "gp = GP(data_test)\n",
    "best_tree, best_score = gp.run(50, 700, 10)\n",
    "#should be [*, [/, 3, 2], [*, x1, x2]]\n",
    "sympy_expr = gp.tree_to_sympy(best_tree)\n",
    "f = sp.lambdify([f\"x{i}\" for i in range(1, len(data_test[0]))], sp.sympify(sympy_expr), \"numpy\")\n",
    "print(f(*data_test[0][:-1]), data_test[0][-1])"
   ]
  },
  {
   "cell_type": "code",
   "execution_count": 20,
   "id": "fcade0d2",
   "metadata": {},
   "outputs": [
    {
     "name": "stderr",
     "output_type": "stream",
     "text": [
      "  0%|          | 0/10 [00:00<?, ?it/s]"
     ]
    },
    {
     "name": "stdout",
     "output_type": "stream",
     "text": [
      "Generation 1\n"
     ]
    },
    {
     "name": "stderr",
     "output_type": "stream",
     "text": [
      " 10%|█         | 1/10 [00:13<02:05, 13.94s/it]"
     ]
    },
    {
     "name": "stdout",
     "output_type": "stream",
     "text": [
      "Generation 2\n"
     ]
    },
    {
     "name": "stderr",
     "output_type": "stream",
     "text": [
      " 20%|██        | 2/10 [01:06<04:55, 36.92s/it]"
     ]
    },
    {
     "name": "stdout",
     "output_type": "stream",
     "text": [
      "Generation 3\n"
     ]
    },
    {
     "name": "stderr",
     "output_type": "stream",
     "text": [
      " 30%|███       | 3/10 [03:11<09:00, 77.16s/it]"
     ]
    },
    {
     "name": "stdout",
     "output_type": "stream",
     "text": [
      "Generation 4\n"
     ]
    },
    {
     "name": "stderr",
     "output_type": "stream",
     "text": [
      " 40%|████      | 4/10 [05:22<09:49, 98.31s/it]"
     ]
    },
    {
     "name": "stdout",
     "output_type": "stream",
     "text": [
      "Generation 5\n"
     ]
    },
    {
     "name": "stderr",
     "output_type": "stream",
     "text": [
      " 50%|█████     | 5/10 [07:46<09:32, 114.55s/it]"
     ]
    },
    {
     "name": "stdout",
     "output_type": "stream",
     "text": [
      "Generation 6\n"
     ]
    },
    {
     "name": "stderr",
     "output_type": "stream",
     "text": [
      " 60%|██████    | 6/10 [08:48<06:27, 96.93s/it] "
     ]
    },
    {
     "name": "stdout",
     "output_type": "stream",
     "text": [
      "Generation 7\n"
     ]
    },
    {
     "name": "stderr",
     "output_type": "stream",
     "text": [
      " 70%|███████   | 7/10 [11:06<05:31, 110.39s/it]"
     ]
    },
    {
     "name": "stdout",
     "output_type": "stream",
     "text": [
      "Generation 8\n"
     ]
    },
    {
     "name": "stderr",
     "output_type": "stream",
     "text": [
      " 80%|████████  | 8/10 [14:59<04:58, 149.18s/it]"
     ]
    },
    {
     "name": "stdout",
     "output_type": "stream",
     "text": [
      "Generation 9\n"
     ]
    },
    {
     "name": "stderr",
     "output_type": "stream",
     "text": [
      " 90%|█████████ | 9/10 [17:31<02:30, 150.09s/it]"
     ]
    },
    {
     "name": "stdout",
     "output_type": "stream",
     "text": [
      "Generation 10\n"
     ]
    },
    {
     "name": "stderr",
     "output_type": "stream",
     "text": [
      "100%|██████████| 10/10 [18:55<00:00, 113.54s/it]\n"
     ]
    },
    {
     "name": "stdout",
     "output_type": "stream",
     "text": [
      "Best tree: ['+', ['*', 'x1', 'x2'], 'x1'] with score: 5.480249074508971\n",
      "Best tree: ['+', ['*', 'x1', 'x2'], 'x1'] with score: 5.480249074508971\n",
      "Mean score for validation: 6.97018856450081\n"
     ]
    }
   ],
   "source": [
    "run_gp(\"medium-I-12.11\")"
   ]
  },
  {
   "cell_type": "code",
   "execution_count": 19,
   "id": "00d79832",
   "metadata": {},
   "outputs": [
    {
     "name": "stderr",
     "output_type": "stream",
     "text": [
      "  0%|          | 0/10 [00:00<?, ?it/s]"
     ]
    },
    {
     "name": "stdout",
     "output_type": "stream",
     "text": [
      "Generation 1\n"
     ]
    },
    {
     "name": "stderr",
     "output_type": "stream",
     "text": [
      " 10%|█         | 1/10 [00:12<01:50, 12.28s/it]"
     ]
    },
    {
     "name": "stdout",
     "output_type": "stream",
     "text": [
      "Generation 2\n"
     ]
    },
    {
     "name": "stderr",
     "output_type": "stream",
     "text": [
      " 20%|██        | 2/10 [00:26<01:47, 13.39s/it]"
     ]
    },
    {
     "name": "stdout",
     "output_type": "stream",
     "text": [
      "Generation 3\n"
     ]
    },
    {
     "name": "stderr",
     "output_type": "stream",
     "text": [
      " 30%|███       | 3/10 [02:08<06:18, 54.02s/it]"
     ]
    },
    {
     "name": "stdout",
     "output_type": "stream",
     "text": [
      "Generation 4\n"
     ]
    },
    {
     "name": "stderr",
     "output_type": "stream",
     "text": [
      " 40%|████      | 4/10 [05:45<11:49, 118.21s/it]"
     ]
    },
    {
     "name": "stdout",
     "output_type": "stream",
     "text": [
      "Generation 5\n"
     ]
    },
    {
     "name": "stderr",
     "output_type": "stream",
     "text": [
      " 50%|█████     | 5/10 [07:32<09:30, 114.06s/it]"
     ]
    },
    {
     "name": "stdout",
     "output_type": "stream",
     "text": [
      "Generation 6\n"
     ]
    },
    {
     "name": "stderr",
     "output_type": "stream",
     "text": [
      " 60%|██████    | 6/10 [10:28<09:01, 135.38s/it]"
     ]
    },
    {
     "name": "stdout",
     "output_type": "stream",
     "text": [
      "Generation 7\n"
     ]
    },
    {
     "name": "stderr",
     "output_type": "stream",
     "text": [
      " 70%|███████   | 7/10 [12:31<06:33, 131.32s/it]"
     ]
    },
    {
     "name": "stdout",
     "output_type": "stream",
     "text": [
      "Generation 8\n"
     ]
    },
    {
     "name": "stderr",
     "output_type": "stream",
     "text": [
      " 80%|████████  | 8/10 [14:14<04:04, 122.29s/it]"
     ]
    },
    {
     "name": "stdout",
     "output_type": "stream",
     "text": [
      "Generation 9\n"
     ]
    },
    {
     "name": "stderr",
     "output_type": "stream",
     "text": [
      " 90%|█████████ | 9/10 [16:26<02:05, 125.34s/it]"
     ]
    },
    {
     "name": "stdout",
     "output_type": "stream",
     "text": [
      "Generation 10\n"
     ]
    },
    {
     "name": "stderr",
     "output_type": "stream",
     "text": [
      "100%|██████████| 10/10 [18:06<00:00, 108.63s/it]\n"
     ]
    },
    {
     "name": "stdout",
     "output_type": "stream",
     "text": [
      "Best tree: ['abs', ['+', ['*', ['-', ['max', ['-', ['floor', ['-', ['ceil', ['min', ['+', ['*', 'x2', 'x1'], 6.307646796365486], 'x1']], 'x2']], 0.7836555580220388], ['floor', ['*', ['ceil', ['abs', ['floor', ['-', ['floor', ['min', ['+', ['*', 'x2', 'x1'], 6.307646796365486], 'x1']], 0.5029912753360737]]]], 1.2713396393142258]]], 2.39924835390317], 1.2713396393142258], -2.126492181146345]] with score: 7.043828512620394\n",
      "Best tree: ['abs', ['+', ['*', ['-', ['max', ['-', ['floor', ['-', ['ceil', ['min', ['+', ['*', 'x2', 'x1'], 6.307646796365486], 'x1']], 'x2']], 0.7836555580220388], ['floor', ['*', ['ceil', ['abs', ['floor', ['-', ['floor', ['min', ['+', ['*', 'x2', 'x1'], 6.307646796365486], 'x1']], 0.5029912753360737]]]], 1.2713396393142258]]], 2.39924835390317], 1.2713396393142258], -2.126492181146345]] with score: 7.043828512620394\n",
      "Mean score for validation: 7.096589173671177\n"
     ]
    }
   ],
   "source": [
    "run_gp(\"medium-I-39.10\")"
   ]
  },
  {
   "cell_type": "code",
   "execution_count": null,
   "id": "e69dcc45",
   "metadata": {},
   "outputs": [],
   "source": []
  }
 ],
 "metadata": {
  "kernelspec": {
   "display_name": ".env",
   "language": "python",
   "name": "python3"
  },
  "language_info": {
   "codemirror_mode": {
    "name": "ipython",
    "version": 3
   },
   "file_extension": ".py",
   "mimetype": "text/x-python",
   "name": "python",
   "nbconvert_exporter": "python",
   "pygments_lexer": "ipython3",
   "version": "3.12.4"
  }
 },
 "nbformat": 4,
 "nbformat_minor": 5
}
