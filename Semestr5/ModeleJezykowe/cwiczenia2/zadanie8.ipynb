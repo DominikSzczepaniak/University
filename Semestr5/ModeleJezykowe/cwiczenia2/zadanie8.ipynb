{
 "cells": [
  {
   "cell_type": "code",
   "execution_count": 1,
   "metadata": {},
   "outputs": [
    {
     "name": "stderr",
     "output_type": "stream",
     "text": [
      "/Users/dominik/Desktop/University/Semestr5/ModeleJezykowe/.env/lib/python3.12/site-packages/tqdm/auto.py:21: TqdmWarning: IProgress not found. Please update jupyter and ipywidgets. See https://ipywidgets.readthedocs.io/en/stable/user_install.html\n",
      "  from .autonotebook import tqdm as notebook_tqdm\n"
     ]
    }
   ],
   "source": [
    "import re\n",
    "from transformers import pipeline\n",
    "import torch"
   ]
  },
  {
   "cell_type": "code",
   "execution_count": null,
   "metadata": {},
   "outputs": [
    {
     "name": "stderr",
     "output_type": "stream",
     "text": [
      "Hardware accelerator e.g. GPU is available in the environment, but no `device` argument is passed to the `Pipeline` object. Model will be on CPU.\n"
     ]
    }
   ],
   "source": [
    "polka = pipeline(\"text-generation\", model=\"flax-community/papuGaPT2\")\n",
    "model = polka.model \n",
    "tokenizer = polka.tokenizer"
   ]
  },
  {
   "cell_type": "code",
   "execution_count": 23,
   "metadata": {},
   "outputs": [],
   "source": [
    "def generate_output(prompt):\n",
    "    inputs = tokenizer.encode(prompt, return_tensors=\"pt\")\n",
    "    outputs = model.generate(inputs, max_new_tokens=32, num_return_sequences=1, do_sample=True)\n",
    "    print(\"Output:\\\n",
    "    \" + 100 * '-')\n",
    "    for i, sample_output in enumerate(outputs):\n",
    "        print(\"{}: {}\".format(i, tokenizer.decode(sample_output, skip_special_tokens=True)))\n",
    "  "
   ]
  },
  {
   "cell_type": "code",
   "execution_count": 15,
   "metadata": {},
   "outputs": [
    {
     "name": "stderr",
     "output_type": "stream",
     "text": [
      "The attention mask and the pad token id were not set. As a consequence, you may observe unexpected behavior. Please pass your input's `attention_mask` to obtain reliable results.\n",
      "Setting `pad_token_id` to `eos_token_id`:None for open-end generation.\n",
      "The attention mask and the pad token id were not set. As a consequence, you may observe unexpected behavior. Please pass your input's `attention_mask` to obtain reliable results.\n",
      "Setting `pad_token_id` to `eos_token_id`:None for open-end generation.\n"
     ]
    },
    {
     "name": "stdout",
     "output_type": "stream",
     "text": [
      "Output:    ----------------------------------------------------------------------------------------------------\n",
      "0: Największym problemem Polski jest rządzenie, które polega na tym, że większość samorządów jest tak ograniczona, że na nic się nie ma żadnego wpływu.\n",
      "W ostatnich latach wiele się zmieniło w polskiej\n",
      "Output:    ----------------------------------------------------------------------------------------------------\n",
      "0: Największym problemem Polski jest korupcja, a jej źródłem jest brak przejrzystości polskiego życia politycznego. Nie ma takiej sfery, która byłaby wolna od korupcji. Nie mamy bowiem takich instytucji jakimi\n"
     ]
    }
   ],
   "source": [
    "generate_output(\"Największym problemem Polski jest \")\n",
    "generate_output(\"Największym problemem Polski jest\")"
   ]
  },
  {
   "cell_type": "code",
   "execution_count": 16,
   "metadata": {},
   "outputs": [
    {
     "name": "stderr",
     "output_type": "stream",
     "text": [
      "The attention mask and the pad token id were not set. As a consequence, you may observe unexpected behavior. Please pass your input's `attention_mask` to obtain reliable results.\n",
      "Setting `pad_token_id` to `eos_token_id`:None for open-end generation.\n",
      "The attention mask and the pad token id were not set. As a consequence, you may observe unexpected behavior. Please pass your input's `attention_mask` to obtain reliable results.\n",
      "Setting `pad_token_id` to `eos_token_id`:None for open-end generation.\n"
     ]
    },
    {
     "name": "stdout",
     "output_type": "stream",
     "text": [
      "Output:    ----------------------------------------------------------------------------------------------------\n",
      "0: Największym Polskim poetą był і (i) Jan Paweł II, który w 1995 roku, a więc w 70 rocznicę śmierci swego poprzednika, napisał dla Państwa wiersze. W tej historii ważną rolę\n",
      "Output:    ----------------------------------------------------------------------------------------------------\n",
      "0: Największym Polskim poetą był Władysław Reymont, a polskim poetą Julian Tuwim, obaj z wielkim dorobkiem i wielkim talentem twórczym.\n",
      "Ta książka to jeden z tych wierszy\n"
     ]
    }
   ],
   "source": [
    "generate_output(\"Największym Polskim poetą był \")\n",
    "generate_output(\"Największym Polskim poetą był\")"
   ]
  },
  {
   "cell_type": "code",
   "execution_count": 26,
   "metadata": {},
   "outputs": [
    {
     "name": "stderr",
     "output_type": "stream",
     "text": [
      "The attention mask and the pad token id were not set. As a consequence, you may observe unexpected behavior. Please pass your input's `attention_mask` to obtain reliable results.\n",
      "Setting `pad_token_id` to `eos_token_id`:None for open-end generation.\n",
      "The attention mask and the pad token id were not set. As a consequence, you may observe unexpected behavior. Please pass your input's `attention_mask` to obtain reliable results.\n",
      "Setting `pad_token_id` to `eos_token_id`:None for open-end generation.\n"
     ]
    },
    {
     "name": "stdout",
     "output_type": "stream",
     "text": [
      "Output:    ----------------------------------------------------------------------------------------------------\n",
      "0: Myślę, że powinniśmy zacząć \\\\\\\"od\\\\\\\"od naszych oczekiwań. Podnieśmy nasze pensje, nauczmy się żyć w świecie, w którym pracujemy i to, co myślimy,\n",
      "Output:    ----------------------------------------------------------------------------------------------------\n",
      "0: Myślę, że powinniśmy zacząć od naszego podwórka. Już w tej chwili wiele osób jest zdania, że w każdym polskim domu powinna być przynajmniej jedna łazienka na przykład na poddaszu. Jest to całkowicie błędne\n"
     ]
    }
   ],
   "source": [
    "generate_output(\"Myślę, że powinniśmy zacząć \")\n",
    "generate_output(\"Myślę, że powinniśmy zacząć\")"
   ]
  },
  {
   "cell_type": "code",
   "execution_count": 24,
   "metadata": {},
   "outputs": [
    {
     "name": "stderr",
     "output_type": "stream",
     "text": [
      "The attention mask and the pad token id were not set. As a consequence, you may observe unexpected behavior. Please pass your input's `attention_mask` to obtain reliable results.\n",
      "Setting `pad_token_id` to `eos_token_id`:None for open-end generation.\n",
      "The attention mask and the pad token id were not set. As a consequence, you may observe unexpected behavior. Please pass your input's `attention_mask` to obtain reliable results.\n",
      "Setting `pad_token_id` to `eos_token_id`:None for open-end generation.\n"
     ]
    },
    {
     "name": "stdout",
     "output_type": "stream",
     "text": [
      "Output:    ----------------------------------------------------------------------------------------------------\n",
      "0: Jednym z ciekawszych pytań ostatnich lat jest ­na pewno ta znana już w krajach europejskich praktyka wymiany dokumentów dla imigrantów („re-reliability”), która daje możliwość załatwienia wszystkich formalności dotyczących statusu swojego i swoich\n",
      "Output:    ----------------------------------------------------------------------------------------------------\n",
      "0: Jednym z ciekawszych pytań ostatnich lat jest takie: czy w ogóle są miejsca przyjazne rowerzystom?\n",
      "Jeśli to drugie – nie, bo nie jest to wcale takie oczywiste – to w przypadku trasy rowerowej\n"
     ]
    }
   ],
   "source": [
    "generate_output(\"Jednym z ciekawszych pytań ostatnich lat jest \")\n",
    "generate_output(\"Jednym z ciekawszych pytań ostatnich lat jest\")"
   ]
  },
  {
   "cell_type": "code",
   "execution_count": 25,
   "metadata": {},
   "outputs": [
    {
     "name": "stderr",
     "output_type": "stream",
     "text": [
      "The attention mask and the pad token id were not set. As a consequence, you may observe unexpected behavior. Please pass your input's `attention_mask` to obtain reliable results.\n",
      "Setting `pad_token_id` to `eos_token_id`:None for open-end generation.\n",
      "The attention mask and the pad token id were not set. As a consequence, you may observe unexpected behavior. Please pass your input's `attention_mask` to obtain reliable results.\n",
      "Setting `pad_token_id` to `eos_token_id`:None for open-end generation.\n"
     ]
    },
    {
     "name": "stdout",
     "output_type": "stream",
     "text": [
      "Output:    ----------------------------------------------------------------------------------------------------\n",
      "0:  старили на наслаждение раскрыленных оружей в аккум\n",
      "Output:    ----------------------------------------------------------------------------------------------------\n",
      "0: .\n",
      "Przy okazji zapraszam Was do naszej prywatnej galerii! Z racji tego, że jestem osobą młodą, ale też bardzo doświadczoną w kwestii rozwoju osobistego, mogę Wam przekazać\n"
     ]
    }
   ],
   "source": [
    "generate_output(\" \")\n",
    "generate_output(\".\")"
   ]
  },
  {
   "cell_type": "code",
   "execution_count": null,
   "metadata": {},
   "outputs": [],
   "source": []
  }
 ],
 "metadata": {
  "kernelspec": {
   "display_name": ".env",
   "language": "python",
   "name": "python3"
  },
  "language_info": {
   "codemirror_mode": {
    "name": "ipython",
    "version": 3
   },
   "file_extension": ".py",
   "mimetype": "text/x-python",
   "name": "python",
   "nbconvert_exporter": "python",
   "pygments_lexer": "ipython3",
   "version": "3.12.7"
  }
 },
 "nbformat": 4,
 "nbformat_minor": 2
}
