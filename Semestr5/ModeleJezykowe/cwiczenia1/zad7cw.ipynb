{
 "cells": [
  {
   "cell_type": "code",
   "execution_count": 1,
   "metadata": {},
   "outputs": [
    {
     "name": "stderr",
     "output_type": "stream",
     "text": [
      "/Users/dominik/Desktop/University/Semestr5/ModeleJezykowe/.env/lib/python3.12/site-packages/tqdm/auto.py:21: TqdmWarning: IProgress not found. Please update jupyter and ipywidgets. See https://ipywidgets.readthedocs.io/en/stable/user_install.html\n",
      "  from .autonotebook import tqdm as notebook_tqdm\n"
     ]
    }
   ],
   "source": [
    "from transformers import pipeline"
   ]
  },
  {
   "cell_type": "code",
   "execution_count": 2,
   "metadata": {},
   "outputs": [
    {
     "name": "stderr",
     "output_type": "stream",
     "text": [
      "Hardware accelerator e.g. GPU is available in the environment, but no `device` argument is passed to the `Pipeline` object. Model will be on CPU.\n"
     ]
    }
   ],
   "source": [
    "chatbot = pipeline(\"text-generation\", model=\"eryk-mazus/polka-1.1b\")"
   ]
  },
  {
   "cell_type": "code",
   "execution_count": 7,
   "metadata": {},
   "outputs": [],
   "source": [
    "def get_response(prompt):\n",
    "    response = chatbot(\n",
    "        prompt, \n",
    "        max_length=100, \n",
    "    )\n",
    "    return response[0]['generated_text']"
   ]
  },
  {
   "cell_type": "code",
   "execution_count": 12,
   "metadata": {},
   "outputs": [
    {
     "data": {
      "text/plain": [
       "'Im going shopping po polsku oznacza: idę na zakupy po polsku\\\\nIm going shopping po polsku oznacza: idę na zakupy po polsku\\\\nIm going shopping po polsku oznacza: idę na zakupy po polsku. Im going shopping po polsku oznacza: idę na zakupy po polsku\\\\nIm going shopping po polsku oznacza: idę na'"
      ]
     },
     "execution_count": 12,
     "metadata": {},
     "output_type": "execute_result"
    }
   ],
   "source": [
    "get_response(\"Im going shopping po polsku oznacza\")"
   ]
  },
  {
   "cell_type": "code",
   "execution_count": 13,
   "metadata": {},
   "outputs": [
    {
     "data": {
      "text/plain": [
       "'Im sleeping po polsku oznacza: spać, czyli wygodnie i bezpiecznie. - Sleeping Polska\\\\nIm sleeping po polsku oznacza: spać, czyli wygodnie i bezpiecznie.\\\\nIm sleeping po polsku oznacza: spać, czyli wygodnie i bezpiecznie. 100%\\\\nIm sleeping po polsku oznacza:'"
      ]
     },
     "execution_count": 13,
     "metadata": {},
     "output_type": "execute_result"
    }
   ],
   "source": [
    "get_response(\"Im sleeping po polsku oznacza\")"
   ]
  },
  {
   "cell_type": "code",
   "execution_count": 15,
   "metadata": {},
   "outputs": [
    {
     "data": {
      "text/plain": [
       "\"Słowo 'cat' oznacza po polsku kota, a po angielsku kota. Nazwa ta pochodzi od łacińskiego słowa catar, czyli kocur, a więc kocur jest kotem, a kocur jest kocurem. Nazwa ta jest używana w języku angielskim od 1840 roku, a w języku polskim od 194\""
      ]
     },
     "execution_count": 15,
     "metadata": {},
     "output_type": "execute_result"
    }
   ],
   "source": [
    "get_response(\"Słowo 'cat' oznacza po polsku\")"
   ]
  },
  {
   "cell_type": "code",
   "execution_count": 17,
   "metadata": {},
   "outputs": [
    {
     "data": {
      "text/plain": [
       "'Angielskie słowo going oznacza po polsku wyjazd, a angielskie słowo going out oznacza wyjście, czyli wyjście z domu. Going out to pubu, czyli wyjście do pubu, to wyjście z domu na imprezę, a going out to a club, czyli wyjście do klubu, to wyjście z domu na imprezę. Going out to a club, czyli wy'"
      ]
     },
     "execution_count": 17,
     "metadata": {},
     "output_type": "execute_result"
    }
   ],
   "source": [
    "get_response(\"Angielskie słowo going oznacza po polsku\")"
   ]
  },
  {
   "cell_type": "code",
   "execution_count": null,
   "metadata": {},
   "outputs": [],
   "source": []
  }
 ],
 "metadata": {
  "kernelspec": {
   "display_name": ".env",
   "language": "python",
   "name": "python3"
  },
  "language_info": {
   "codemirror_mode": {
    "name": "ipython",
    "version": 3
   },
   "file_extension": ".py",
   "mimetype": "text/x-python",
   "name": "python",
   "nbconvert_exporter": "python",
   "pygments_lexer": "ipython3",
   "version": "3.12.6"
  }
 },
 "nbformat": 4,
 "nbformat_minor": 2
}
