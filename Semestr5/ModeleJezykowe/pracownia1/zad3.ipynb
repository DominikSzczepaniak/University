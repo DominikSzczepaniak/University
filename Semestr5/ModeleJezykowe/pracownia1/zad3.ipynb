{
 "cells": [
  {
   "cell_type": "code",
   "execution_count": 2,
   "metadata": {},
   "outputs": [
    {
     "name": "stderr",
     "output_type": "stream",
     "text": [
      "/Users/dominik/Desktop/University/Semestr5/ModeleJezykowe/.env/lib/python3.12/site-packages/tqdm/auto.py:21: TqdmWarning: IProgress not found. Please update jupyter and ipywidgets. See https://ipywidgets.readthedocs.io/en/stable/user_install.html\n",
      "  from .autonotebook import tqdm as notebook_tqdm\n"
     ]
    }
   ],
   "source": [
    "import itertools\n",
    "from transformers import pipeline\n",
    "import torch"
   ]
  },
  {
   "cell_type": "code",
   "execution_count": 3,
   "metadata": {},
   "outputs": [
    {
     "name": "stderr",
     "output_type": "stream",
     "text": [
      "Hardware accelerator e.g. GPU is available in the environment, but no `device` argument is passed to the `Pipeline` object. Model will be on CPU.\n"
     ]
    }
   ],
   "source": [
    "polka = pipeline(\"text-generation\", model=\"eryk-mazus/polka-1.1b\")\n",
    "model = polka.model \n",
    "tokenizer = polka.tokenizer"
   ]
  },
  {
   "cell_type": "code",
   "execution_count": 4,
   "metadata": {},
   "outputs": [],
   "source": [
    "def score_sequence(prompt, continuation):\n",
    "    input_ids = tokenizer.encode(prompt, return_tensors='pt')\n",
    "    continuation_ids = tokenizer.encode(continuation, return_tensors='pt')\n",
    "\n",
    "    input_ids_full = torch.cat([input_ids, continuation_ids[:, 1:]], dim=-1)\n",
    "\n",
    "    with torch.no_grad():\n",
    "        outputs = model(input_ids_full, labels=input_ids_full)\n",
    "        log_likelihood = -outputs.loss * continuation_ids.size(1)\n",
    "\n",
    "    return log_likelihood.item()\n",
    "\n",
    "def classify_opinion(opinion):\n",
    "    methods = []\n",
    "\n",
    "    prompt = opinion.strip()\n",
    "    continuation_pos = \" To jest pozytywna opinia.\"\n",
    "    continuation_neg = \" To jest negatywna opinia.\"\n",
    "\n",
    "    score_pos = score_sequence(prompt, continuation_pos)\n",
    "    score_neg = score_sequence(prompt, continuation_neg)\n",
    "\n",
    "    result1 = \"Pozytywna\" if score_pos > score_neg else \"Negatywna\"\n",
    "    methods.append(result1)\n",
    "\n",
    "    prompt = opinion.strip() + \" Ogólnie rzecz biorąc, jest to opinia\"\n",
    "    continuation_pos = \" pozytywna.\"\n",
    "    continuation_neg = \" negatywna.\"\n",
    "\n",
    "    score_pos = score_sequence(prompt, continuation_pos)\n",
    "    score_neg = score_sequence(prompt, continuation_neg)\n",
    "\n",
    "    result2 = \"Pozytywna\" if score_pos > score_neg else \"Negatywna\"\n",
    "    methods.append(result2)\n",
    "\n",
    "    final_result = \"Pozytywna\" if methods.count(\"Pozytywna\") > methods.count(\"Negatywna\") else \"Negatywna\"\n",
    "\n",
    "    return final_result"
   ]
  },
  {
   "cell_type": "code",
   "execution_count": 5,
   "metadata": {},
   "outputs": [
    {
     "name": "stdout",
     "output_type": "stream",
     "text": [
      "Positive Opinions:\n",
      "Opinion: Parking monitorowany w cenie.\n",
      "Predicted Sentiment: Negatywna\n",
      "\n",
      "Opinion: Hotel czysty, pokoje były sprzątane bardzo dokładnie.\n",
      "Predicted Sentiment: Pozytywna\n",
      "\n",
      "Opinion: Generalnie mogę go polecić, kierował mnie na potrzebne badania, analizował ich wyniki, cierpliwie odpowiadał na pytania.\n",
      "Predicted Sentiment: Pozytywna\n",
      "\n",
      "Opinion: Fajny klimat pofabrykanckich kamienic.\n",
      "Predicted Sentiment: Pozytywna\n",
      "\n",
      "Opinion: Sala zabaw dla dzieci, plac zabaw na zewnątrz, kominek, tenis stołowy.\n",
      "Predicted Sentiment: Pozytywna\n",
      "\n",
      "Negative Opinions:\n",
      "Opinion: W wielu pokojach niedziałająca klimatyzacja.\n",
      "Predicted Sentiment: Negatywna\n",
      "\n",
      "Opinion: Jedzenie mimo rzekomych dni europejskich monotonne.\n",
      "Predicted Sentiment: Negatywna\n",
      "\n",
      "Opinion: Drożej niż u konkurencji w podobnym standardzie.\n",
      "Predicted Sentiment: Negatywna\n",
      "\n",
      "Opinion: Może za szybko zrezygnowałam, ale szkoda mi było wydawać pieniędzy na spotkania, które nie przynosiły efektu.\n",
      "Predicted Sentiment: Negatywna\n",
      "\n",
      "Opinion: Omijaj to miejsce!\n",
      "Predicted Sentiment: Pozytywna\n",
      "\n",
      "Accuracy: 80.00%\n"
     ]
    }
   ],
   "source": [
    "positive_opinions = [\n",
    "    \"Parking monitorowany w cenie.\",\n",
    "    \"Hotel czysty, pokoje były sprzątane bardzo dokładnie.\",\n",
    "    \"Generalnie mogę go polecić, kierował mnie na potrzebne badania, analizował ich wyniki, cierpliwie odpowiadał na pytania.\",\n",
    "    \"Fajny klimat pofabrykanckich kamienic.\",\n",
    "    \"Sala zabaw dla dzieci, plac zabaw na zewnątrz, kominek, tenis stołowy.\"\n",
    "]\n",
    "\n",
    "negative_opinions = [\n",
    "    \"W wielu pokojach niedziałająca klimatyzacja.\",\n",
    "    \"Jedzenie mimo rzekomych dni europejskich monotonne.\",\n",
    "    \"Drożej niż u konkurencji w podobnym standardzie.\",\n",
    "    \"Może za szybko zrezygnowałam, ale szkoda mi było wydawać pieniędzy na spotkania, które nie przynosiły efektu.\",\n",
    "    \"Omijaj to miejsce!\"\n",
    "]\n",
    "\n",
    "correct = 0\n",
    "total = 0\n",
    "\n",
    "print(\"Positive Opinions:\")\n",
    "for opinion in positive_opinions:\n",
    "    prediction = classify_opinion(opinion)\n",
    "    print(f\"Opinion: {opinion}\\nPredicted Sentiment: {prediction}\\n\")\n",
    "    if prediction == \"Pozytywna\":\n",
    "        correct += 1\n",
    "    total += 1\n",
    "\n",
    "print(\"Negative Opinions:\")\n",
    "for opinion in negative_opinions:\n",
    "    prediction = classify_opinion(opinion)\n",
    "    print(f\"Opinion: {opinion}\\nPredicted Sentiment: {prediction}\\n\")\n",
    "    if prediction == \"Negatywna\":\n",
    "        correct += 1\n",
    "    total += 1\n",
    "\n",
    "accuracy = correct / total * 100\n",
    "print(f\"Accuracy: {accuracy:.2f}%\")"
   ]
  },
  {
   "cell_type": "code",
   "execution_count": 7,
   "metadata": {},
   "outputs": [
    {
     "name": "stdout",
     "output_type": "stream",
     "text": [
      "Accuracy on file data: 76.00%\n"
     ]
    },
    {
     "data": {
      "text/plain": [
       "76.0"
      ]
     },
     "execution_count": 7,
     "metadata": {},
     "output_type": "execute_result"
    }
   ],
   "source": [
    "def classify_from_file(filename, maximum=None):\n",
    "    correct = 0\n",
    "    total = 0\n",
    "    \n",
    "    with open(filename, 'r', encoding='utf-8') as file:\n",
    "        max_iter = 0\n",
    "        for line in file:\n",
    "            if(maximum != None):\n",
    "                if(max_iter >= maximum):\n",
    "                    break\n",
    "                max_iter += 1\n",
    "            if line.startswith(\"GOOD\"):\n",
    "                label = \"Pozytywna\"\n",
    "                opinion = line[len(\"GOOD\"):].strip()\n",
    "            elif line.startswith(\"BAD\"):\n",
    "                label = \"Negatywna\"\n",
    "                opinion = line[len(\"BAD\"):].strip()\n",
    "            else:\n",
    "                continue  \n",
    "\n",
    "            prediction = classify_opinion(opinion)\n",
    "            if prediction == label:\n",
    "                correct += 1\n",
    "            total += 1\n",
    "    \n",
    "    accuracy = correct / total * 100 if total > 0 else 0\n",
    "    print(f\"Accuracy on file data: {accuracy:.2f}%\")\n",
    "    return accuracy\n",
    "\n",
    "filename = \"reviews_for_task3.txt\"\n",
    "classify_from_file(filename, 100)"
   ]
  },
  {
   "cell_type": "code",
   "execution_count": null,
   "metadata": {},
   "outputs": [],
   "source": []
  }
 ],
 "metadata": {
  "kernelspec": {
   "display_name": ".env",
   "language": "python",
   "name": "python3"
  },
  "language_info": {
   "codemirror_mode": {
    "name": "ipython",
    "version": 3
   },
   "file_extension": ".py",
   "mimetype": "text/x-python",
   "name": "python",
   "nbconvert_exporter": "python",
   "pygments_lexer": "ipython3",
   "version": "3.12.7"
  }
 },
 "nbformat": 4,
 "nbformat_minor": 2
}
