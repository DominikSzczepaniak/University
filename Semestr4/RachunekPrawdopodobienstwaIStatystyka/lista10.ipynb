{
 "cells": [
  {
   "cell_type": "markdown",
   "metadata": {},
   "source": [
    "Zadanie 1\n",
    "Niech X ∼ Poisson(8). P(X ­ k) – podajemy wartość dokładną, CLT – przybliżenie z twierdzenia granicznego. Uzupełnić tabelę:\n",
    "k P(X­k) CLT \n",
    "\n",
    "11 0.18411 0.18838 \n",
    "\n",
    "14 0.03418 0.02591\n",
    "\n",
    "17 0.00372 0.00133 \n",
    "\n",
    "20 0.00025 0.00002"
   ]
  },
  {
   "cell_type": "code",
   "execution_count": 6,
   "metadata": {},
   "outputs": [],
   "source": [
    "import numpy as np\n",
    "import pandas as pd\n",
    "import math\n",
    "from scipy.stats import norm\n",
    "\n",
    "data = [\n",
    "    7.673180637, 4.032093569, 4.473012439, 4.350657991, 7.760673909,\n",
    "    3.529574315, 9.895455697, 4.472624671, 6.83795328, 5.503036564,\n",
    "    -4.005223372, 7.614015387, -5.200161971, -1.412588328, -2.57644736,\n",
    "    6.406994523, -1.772065574, -2.080283754, -1.462259902, 1.959757279\n",
    "]\n",
    "data = [float(x) for x in data]\n",
    "\n",
    "n = 20"
   ]
  },
  {
   "cell_type": "markdown",
   "metadata": {},
   "source": [
    "ZADANIE 2"
   ]
  },
  {
   "cell_type": "code",
   "execution_count": 24,
   "metadata": {},
   "outputs": [
    {
     "name": "stdout",
     "output_type": "stream",
     "text": [
      "0.9088606816653162\n"
     ]
    }
   ],
   "source": [
    "def statystyka(mu, sigma):\n",
    "    return (np.mean(data) - mu) / (sigma / np.sqrt(n))\n",
    "\n",
    "print(norm.cdf(statystyka(1.5, math.sqrt(19))))"
   ]
  },
  {
   "cell_type": "markdown",
   "metadata": {},
   "source": [
    "ZADANIE 3"
   ]
  },
  {
   "cell_type": "code",
   "execution_count": 5,
   "metadata": {},
   "outputs": [
    {
     "data": {
      "text/plain": [
       "0.8932097212468482"
      ]
     },
     "execution_count": 5,
     "metadata": {},
     "output_type": "execute_result"
    }
   ],
   "source": [
    "from scipy.stats import t\n",
    "\n",
    "# Hypothesized mean\n",
    "mu_0 = 1.5\n",
    "\n",
    "# Sample mean\n",
    "sample_mean = np.mean(data)\n",
    "\n",
    "# Sample standard deviation\n",
    "sample_std = np.std(data, ddof=1)\n",
    "\n",
    "# Calculate the t-test statistic\n",
    "t_statistic = (sample_mean - mu_0) / (sample_std / np.sqrt(n))\n",
    "\n",
    "# Calculate the CDF for the t-distribution at the calculated t-statistic\n",
    "t_cdf_value = t.cdf(t_statistic, df)\n",
    "\n",
    "#sample_mean, t_statistic, \n",
    "t_cdf_value\n"
   ]
  },
  {
   "cell_type": "markdown",
   "metadata": {},
   "source": [
    "ZADANIE 4\n",
    "8 CLT 0.02889\n",
    "9 P(X>=9) 0.01074"
   ]
  },
  {
   "cell_type": "markdown",
   "metadata": {},
   "source": [
    "ZADANIE 5"
   ]
  },
  {
   "cell_type": "code",
   "execution_count": 12,
   "metadata": {},
   "outputs": [
    {
     "data": {
      "text/plain": [
       "(20.479440780494013, 27.79352677352759, 0.912516392977268)"
      ]
     },
     "execution_count": 12,
     "metadata": {},
     "output_type": "execute_result"
    }
   ],
   "source": [
    "import numpy as np\n",
    "from scipy.stats import chi2\n",
    "\n",
    "# Data provided\n",
    "data = [\n",
    "    7.673180637, 4.032093569, 4.473012439, 4.350657991, 7.760673909,\n",
    "    3.529574315, 9.895455697, 4.472624671, 6.83795328, 5.503036564,\n",
    "    -4.005223372, 7.614015387, -5.200161971, -1.412588328, -2.57644736,\n",
    "    6.406994523, -1.772065574, -2.080283754, -1.462259902, 1.959757279\n",
    "]\n",
    "\n",
    "# Sample size\n",
    "n = len(data)\n",
    "\n",
    "# Sample variance S^2\n",
    "sample_variance = np.var(data, ddof=1)\n",
    "\n",
    "# Variance under the null hypothesis\n",
    "sigma_0_squared = 14\n",
    "\n",
    "# Calculate the test statistic\n",
    "chi_squared_statistic = (n - 1) * sample_variance / sigma_0_squared \n",
    "\n",
    "# Degrees of freedom\n",
    "df = n - 1\n",
    "\n",
    "# Calculate the p-value from the chi-squared distribution\n",
    "p_value = chi2.cdf(chi_squared_statistic, df)\n",
    "\n",
    "sample_variance, chi_squared_statistic, p_value\n"
   ]
  },
  {
   "cell_type": "markdown",
   "metadata": {},
   "source": [
    "ZAD 6"
   ]
  },
  {
   "cell_type": "code",
   "execution_count": 14,
   "metadata": {},
   "outputs": [
    {
     "data": {
      "text/plain": [
       "(20.479440780494013, 27.79352677352759, 0.8856221674668809)"
      ]
     },
     "execution_count": 14,
     "metadata": {},
     "output_type": "execute_result"
    }
   ],
   "source": [
    "import numpy as np\n",
    "from scipy.stats import chi2\n",
    "\n",
    "# Data provided\n",
    "data = [\n",
    "    7.673180637, 4.032093569, 4.473012439, 4.350657991, 7.760673909,\n",
    "    3.529574315, 9.895455697, 4.472624671, 6.83795328, 5.503036564,\n",
    "    -4.005223372, 7.614015387, -5.200161971, -1.412588328, -2.57644736,\n",
    "    6.406994523, -1.772065574, -2.080283754, -1.462259902, 1.959757279\n",
    "]\n",
    "\n",
    "# Sample size\n",
    "n = len(data)\n",
    "\n",
    "# Sample variance S^2\n",
    "sample_variance = np.var(data, ddof=1)\n",
    "\n",
    "# Variance under the null hypothesis\n",
    "sigma_0_squared = 14\n",
    "\n",
    "# Calculate the test statistic\n",
    "chi_squared_statistic = (n - 1) * sample_variance / sigma_0_squared \n",
    "\n",
    "# Degrees of freedom\n",
    "df = n \n",
    "\n",
    "# Calculate the p-value from the chi-squared distribution\n",
    "p_value = chi2.cdf(chi_squared_statistic, df)\n",
    "\n",
    "sample_variance, chi_squared_statistic, p_value"
   ]
  },
  {
   "cell_type": "markdown",
   "metadata": {},
   "source": [
    "ZAD 7\n",
    "EY1=5\n",
    "EY2=1\n",
    "VarY1= 14\n",
    "VarY2= 25\n",
    "Cov(y1, y2) = 0"
   ]
  },
  {
   "cell_type": "markdown",
   "metadata": {},
   "source": [
    "ZADANIE 8\n",
    "Do oszacowania prawdopodobieństwa \\( P(0.5\\lambda < X < 1.5\\lambda) \\) dla zmiennej losowej \\( X \\), która ma rozkład Poissona z parametrem \\( \\lambda \\), użyjemy nierówności Chernoffa. Nierówność Chernoffa jest użyteczna do oszacowania prawdopodobieństwa, że zmienna Poissona znacząco odbiega od swojej wartości oczekiwanej.\n",
    "\n",
    "Nierówność Chernoffa dla zmiennej losowej \\( X \\) o rozkładzie Poissona z parametrem \\( \\lambda \\) i dla każdego \\( t > 0 \\) mówi, że:\n",
    "\\[ P(X \\geq k) \\leq \\left(\\frac{e^{-\\lambda} \\lambda^k}{k^k}\\right)^t \\]\n",
    "\\[ P(X \\leq k) \\leq \\left(\\frac{e^{-\\lambda} \\lambda^k}{k^k}\\right)^t \\]\n",
    "\n",
    "Możemy zastosować to oszacowanie osobno do \\( P(X \\leq 0.5\\lambda) \\) i \\( P(X \\geq 1.5\\lambda) \\) i użyć faktu, że \\( P(0.5\\lambda < X < 1.5\\lambda) = 1 - P(X \\leq 0.5\\lambda) - P(X \\geq 1.5\\lambda) \\).\n",
    "\n",
    "1. **Oszacowanie \\( P(X \\leq 0.5\\lambda) \\)**:\n",
    "   - Wybieramy \\( k = 0.5\\lambda \\) i minimalizujemy \\( \\left(\\frac{e^{-\\lambda} \\lambda^{0.5\\lambda}}{(0.5\\lambda)^{0.5\\lambda}}\\right)^t \\).\n",
    "   - Dla \\( t \\) przyjmujemy wartość \\( t = \\frac{k}{\\lambda} = 0.5 \\), wtedy:\n",
    "     \\[\n",
    "     P(X \\leq 0.5\\lambda) \\approx \\exp\\left(-0.5\\lambda \\left(2\\ln(2) - 1\\right)\\right)\n",
    "     \\]\n",
    "     Ponieważ \\( \\ln(2) \\approx 0.693 \\), więc \\( 2\\ln(2) - 1 \\approx 0.386 \\).\n",
    "\n",
    "2. **Oszacowanie \\( P(X \\geq 1.5\\lambda) \\)**:\n",
    "   - Wybieramy \\( k = 1.5\\lambda \\) i minimalizujemy \\( \\left(\\frac{e^{-\\lambda} \\lambda^{1.5\\lambda}}{(1.5\\lambda)^{1.5\\lambda}}\\right)^t \\).\n",
    "   - Dla \\( t \\) przyjmujemy wartość \\( t = \\frac{k}{\\lambda} = 1.5 \\), wtedy:\n",
    "     \\[\n",
    "     P(X \\geq 1.5\\lambda) \\approx \\exp\\left(-1.5\\lambda \\left(\\frac{2}{3}\\ln\\left(\\frac{2}{3}\\right) + \\frac{1}{3}\\right)\\right)\n",
    "     \\]\n",
    "     Ponieważ \\( \\ln\\left(\\frac{2}{3}\\right) \\approx -0.405 \\), więc \\( \\frac{2}{3}\\ln\\left(\\frac{2}{3}\\right) + \\frac{1}{3} \\approx -0.07 \\).\n",
    "\n",
    "Używając tych przybliżeń, oszacujemy \\( P(0.5\\lambda < X < 1.5\\lambda) \\):\n",
    "\\[ P(0.5\\lambda < X < 1.5\\lambda) \\approx 1 - \\exp\\left(-0.5\\lambda \\cdot 0.386\\right) - \\exp\\left(-1.5\\lambda \\cdot 0.07\\right) \\]\n",
    "\n",
    "Te oszacowania dają nam górne granice dla prawdopodobieństw, więc rzeczywiste prawdopodobieństwo \\( P(0.5\\lambda < X < 1.5\\lambda) \\) może być tylko wyższe niż wynikające z tych obliczeń."
   ]
  },
  {
   "cell_type": "markdown",
   "metadata": {},
   "source": [
    "Zadanie 9\n",
    "\n",
    "Aby oszacować prawdopodobieństwo \\( P(0.5\\lambda < X < 1.5\\lambda) \\) dla zmiennej losowej \\( X \\) o rozkładzie Poissona z parametrem \\( \\lambda \\) wykorzystując centralne twierdzenie graniczne (CLT), musimy założyć, że \\( \\lambda \\) jest wystarczająco duże, by przybliżenie było skuteczne.\n",
    "\n",
    "### Centralne Twierdzenie Graniczne:\n",
    "Dla dużej wartości \\( \\lambda \\), rozkład Poissona \\( X \\sim \\text{Poisson}(\\lambda) \\) można przybliżać przez rozkład normalny \\( N(\\lambda, \\lambda) \\), gdzie:\n",
    "- Średnia \\( \\mu = \\lambda \\)\n",
    "- Wariancja \\( \\sigma^2 = \\lambda \\)\n",
    "\n",
    "### Standardyzacja:\n",
    "Przekształcamy \\( X \\) do standardowej postaci zmiennej normalnej \\( Z \\):\n",
    "\\[ Z = \\frac{X - \\lambda}{\\sqrt{\\lambda}} \\]\n",
    "\n",
    "### Obliczenie granic:\n",
    "- Dla \\( X = 0.5\\lambda \\):\n",
    "  \\[ Z = \\frac{0.5\\lambda - \\lambda}{\\sqrt{\\lambda}} = \\frac{-0.5\\lambda}{\\sqrt{\\lambda}} = -0.5\\sqrt{\\lambda} \\]\n",
    "- Dla \\( X = 1.5\\lambda \\):\n",
    "  \\[ Z = \\frac{1.5\\lambda - \\lambda}{\\sqrt{\\lambda}} = \\frac{0.5\\lambda}{\\sqrt{\\lambda}} = 0.5\\sqrt{\\lambda} \\]\n",
    "\n",
    "### Oszacowanie prawdopodobieństwa:\n",
    "Używamy funkcji dystrybuanty standardowego rozkładu normalnego \\( \\Phi \\) do oszacowania prawdopodobieństwa:\n",
    "\\[ P(0.5\\lambda < X < 1.5\\lambda) \\approx \\Phi(0.5\\sqrt{\\lambda}) - \\Phi(-0.5\\sqrt{\\lambda}) \\]\n",
    "\n",
    "Dzięki symetrii rozkładu normalnego, mamy:\n",
    "\\[ \\Phi(0.5\\sqrt{\\lambda}) - \\Phi(-0.5\\sqrt{\\lambda}) = 2\\Phi(0.5\\sqrt{\\lambda}) - 1 \\]\n",
    "\n",
    "### Przykład numeryczny:\n",
    "Załóżmy, że \\( \\lambda = 100 \\), co jest wartością wystarczającą do użycia CLT:\n",
    "\\[ P(0.5\\cdot100 < X < 1.5\\cdot100) \\approx 2\\Phi(0.5\\sqrt{100}) - 1 = 2\\Phi(5) - 1 \\]\n",
    "\n",
    "Obliczmy to teraz:\n",
    "\n",
    "Dla \\( \\lambda = 100 \\), oszacowanie prawdopodobieństwa \\( P(0.5\\lambda < X < 1.5\\lambda) \\) wynosi około \\( 0.999999 \\) przy użyciu centralnego twierdzenia granicznego. To pokazuje, że dla dużych wartości \\( \\lambda \\), zmienna losowa Poissona z takim parametrem bardzo rzadko odchyla się od swojej wartości oczekiwanej o więcej niż \\( 0.5\\lambda \\) w obie strony."
   ]
  },
  {
   "cell_type": "code",
   "execution_count": 28,
   "metadata": {},
   "outputs": [
    {
     "data": {
      "text/plain": [
       "0.9999994266968562"
      ]
     },
     "execution_count": 28,
     "metadata": {},
     "output_type": "execute_result"
    }
   ],
   "source": [
    "from scipy.stats import norm\n",
    "\n",
    "# Przykładowa wartość lambda\n",
    "lambda_value = 100\n",
    "\n",
    "# Obliczenie dystrybuanty dla z=0.5*sqrt(lambda) i z=-0.5*sqrt(lambda)\n",
    "z_positive = 0.5 * (lambda_value ** 0.5)\n",
    "z_negative = -0.5 * (lambda_value ** 0.5)\n",
    "\n",
    "# Użycie dystrybuanty standardowego rozkładu normalnego\n",
    "probability_estimate = 2 * norm.cdf(z_positive) - 1\n",
    "probability_estimate\n"
   ]
  },
  {
   "cell_type": "markdown",
   "metadata": {},
   "source": [
    "zad 10\n",
    "dokładne 0.894\n",
    "clt 0.845\n",
    "chernoff 0.427"
   ]
  },
  {
   "cell_type": "code",
   "execution_count": 10,
   "metadata": {},
   "outputs": [
    {
     "data": {
      "text/plain": [
       "(27.79352677352759, 0.912516392977268)"
      ]
     },
     "execution_count": 10,
     "metadata": {},
     "output_type": "execute_result"
    }
   ],
   "source": [
    "import numpy as np\n",
    "\n",
    "# Dane, zabezpieczone konwersją do float\n",
    "data = [\n",
    "    7.673180637, 4.032093569, 4.473012439, 4.350657991, 7.760673909,\n",
    "    3.529574315, 9.895455697, 4.472624671, 6.83795328, 5.503036564,\n",
    "    -4.005223372, 7.614015387, -5.200161971, -1.412588328, -2.57644736,\n",
    "    6.406994523, -1.772065574, -2.080283754, -1.462259902, 1.959757279\n",
    "]\n",
    "\n",
    "# Przekonwertuj wszystkie elementy na float, aby uniknąć błędów z typami danych\n",
    "data = [float(x) for x in data]\n",
    "\n",
    "# Obliczanie średniej\n",
    "mean_sample = np.mean(data)\n",
    "\n",
    "# Obliczanie wariancji próbkowej\n",
    "variance_sample = np.var(data, ddof=1)  # ddof=1 dla nieobciążonej wariancji próbkowej\n",
    "\n",
    "# Wartość wariancji pod hipotezą zerową\n",
    "sigma_0_squared = 14\n",
    "\n",
    "# Obliczenie statystyki testowej Chi-kwadrat\n",
    "n = len(data)\n",
    "chi_squared = ((n - 1) * variance_sample) / sigma_0_squared\n",
    "\n",
    "# Obliczenie wartości dystrybuanty dla wartości chi-kwadrat\n",
    "from scipy.stats import chi2\n",
    "p_value_chi_squared = chi2.cdf(chi_squared, n - 1)\n",
    "\n",
    "chi_squared, p_value_chi_squared\n"
   ]
  }
 ],
 "metadata": {
  "kernelspec": {
   "display_name": "Python 3",
   "language": "python",
   "name": "python3"
  },
  "language_info": {
   "codemirror_mode": {
    "name": "ipython",
    "version": 3
   },
   "file_extension": ".py",
   "mimetype": "text/x-python",
   "name": "python",
   "nbconvert_exporter": "python",
   "pygments_lexer": "ipython3",
   "version": "3.12.3"
  }
 },
 "nbformat": 4,
 "nbformat_minor": 2
}
