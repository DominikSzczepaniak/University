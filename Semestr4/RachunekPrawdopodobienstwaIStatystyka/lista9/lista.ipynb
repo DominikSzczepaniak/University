{
 "cells": [
  {
   "cell_type": "code",
   "execution_count": 3,
   "metadata": {},
   "outputs": [],
   "source": [
    "import pandas as pd\n",
    "from scipy.stats import norm\n",
    "\n",
    "# Load the data from the uploaded CSV file\n",
    "file_path = 'z0104.csv'\n",
    "data = pd.read_csv(file_path, header=None)\n",
    "\n",
    "# Display the first few rows of the dataframe and column information to understand its structure\n",
    "data.head(), data.describe()\n",
    "\n",
    "mu = 4  # real mean\n",
    "sigma = 1  # real standard deviation\n",
    "n = len(data)  # sample size\n",
    "\n",
    "data_10 = data[:10][0]\n",
    "data_20 = data[:20][0]\n",
    "data_40 = data[:][0]\n",
    "\n",
    "#data_10, data_20, data_40"
   ]
  },
  {
   "cell_type": "markdown",
   "metadata": {},
   "source": [
    "# Z1"
   ]
  },
  {
   "cell_type": "markdown",
   "metadata": {},
   "source": [
    "Zakładamy, że $σ = 1$, testujemy hipotezę $H_0 : µ = 3.9$. Obliczyć trzy wartości dystrybuanty $F_Z(z_{10}), F_Z(z_{20}), F_Z(z_{40})$."
   ]
  },
  {
   "cell_type": "markdown",
   "metadata": {},
   "source": [
    "Watrość dystrybuanty $F_Z(z_{10})$"
   ]
  },
  {
   "cell_type": "code",
   "execution_count": 4,
   "metadata": {},
   "outputs": [
    {
     "name": "stdout",
     "output_type": "stream",
     "text": [
      "Z = 1.1057089816636536 \n",
      "F_Z(z) = 0.8655737493878928\n"
     ]
    }
   ],
   "source": [
    "n = 10\n",
    "X = data_10\n",
    "\n",
    "mu0 = 3.9\n",
    "\n",
    "# Sample mean\n",
    "X_mean = X.mean()\n",
    "\n",
    "# Calculate Z statistic\n",
    "Z = (X_mean - mu0) / (sigma / (n ** 0.5))\n",
    "\n",
    "# Calculate the p-value from the Z statistic\n",
    "p_value_10 = norm.cdf(Z)\n",
    "\n",
    "print(f\"Z = {Z} \\nF_Z(z) = {p_value_10}\")"
   ]
  },
  {
   "cell_type": "markdown",
   "metadata": {},
   "source": [
    "Watrość dystrybuanty $F_Z(z_{20})$"
   ]
  },
  {
   "cell_type": "code",
   "execution_count": 335,
   "metadata": {},
   "outputs": [
    {
     "name": "stdout",
     "output_type": "stream",
     "text": [
      "Z = 1.5637086379064788 \n",
      "F_Z(z) = 0.9410569958642803\n"
     ]
    }
   ],
   "source": [
    "n = 20\n",
    "X = data_20\n",
    "\n",
    "mu0 = 3.9\n",
    "\n",
    "# Sample mean\n",
    "X_mean = X.mean()\n",
    "\n",
    "# Calculate Z statistic\n",
    "Z = (X_mean - mu0) / (sigma / (n ** 0.5))\n",
    "\n",
    "# Calculate the p-value from the Z statistic\n",
    "p_value_20 = norm.cdf(Z)\n",
    "\n",
    "print(f\"Z = {Z} \\nF_Z(z) = {p_value_20}\")"
   ]
  },
  {
   "cell_type": "markdown",
   "metadata": {},
   "source": [
    "Watrość dystrybuanty $F_Z(z_{40})$"
   ]
  },
  {
   "cell_type": "code",
   "execution_count": 336,
   "metadata": {},
   "outputs": [
    {
     "name": "stdout",
     "output_type": "stream",
     "text": [
      "Z = 2.2114179633273015 \n",
      "F_Z(z) = 0.9864965464801648\n"
     ]
    }
   ],
   "source": [
    "n = 40\n",
    "X = data_40\n",
    "\n",
    "mu0 = 3.9\n",
    "\n",
    "# Sample mean\n",
    "X_mean = X.mean()\n",
    "\n",
    "# Calculate Z statistic\n",
    "Z = (X_mean - mu0) / (sigma / (n ** 0.5))\n",
    "\n",
    "# Calculate the p-value from the Z statistic\n",
    "p_value_40 = norm.cdf(Z)\n",
    "\n",
    "print(f\"Z = {Z} \\nF_Z(z) = {p_value_40}\")"
   ]
  },
  {
   "cell_type": "markdown",
   "metadata": {},
   "source": [
    "$F_Z(z_{10}), F_Z(z_{20}), F_Z(z_{40})$"
   ]
  },
  {
   "cell_type": "code",
   "execution_count": 337,
   "metadata": {},
   "outputs": [
    {
     "data": {
      "text/plain": [
       "(0.8655737493878928, 0.9410569958642803, 0.9864965464801648)"
      ]
     },
     "execution_count": 337,
     "metadata": {},
     "output_type": "execute_result"
    }
   ],
   "source": [
    "res_Z1 = [p_value_10, p_value_20, p_value_40]\n",
    "p_value_10, p_value_20, p_value_40"
   ]
  },
  {
   "cell_type": "markdown",
   "metadata": {},
   "source": [
    "# Z2"
   ]
  },
  {
   "cell_type": "markdown",
   "metadata": {},
   "source": [
    "Nie znamy wartości $σ$. Testujemy hipotezę $H_0 : µ = 3.9$. Obliczyć trzy wartości dystrybuanty $F_T(t_{10}), F_T(t_{20}), F_T(t_{40})$"
   ]
  },
  {
   "cell_type": "markdown",
   "metadata": {},
   "source": [
    "Wrtość dystrybuanty $F_T(t_{10})$"
   ]
  },
  {
   "cell_type": "code",
   "execution_count": 338,
   "metadata": {},
   "outputs": [
    {
     "name": "stdout",
     "output_type": "stream",
     "text": [
      "T = 1.1652668401395814 \n",
      "F_T(t) = 0.8645231580868336\n"
     ]
    }
   ],
   "source": [
    "from scipy.stats import t\n",
    "\n",
    "n = 10\n",
    "X = data_10\n",
    "\n",
    "mu0 = 3.9\n",
    "\n",
    "# Oblicz średnią dla każdej kolumny\n",
    "X_mean = data.mean()\n",
    "\n",
    "# Odejmij średnią od każdej wartości w danych, podnieś do kwadratu\n",
    "squared_diff = (data - X_mean) ** 2\n",
    "\n",
    "# Oblicz średnią dla każdej kolumny danych po podniesieniu do kwadratu\n",
    "mean_squared_diff = squared_diff.mean()\n",
    "\n",
    "# Oblicz pierwiastek ze średniej kwadratowej różnic\n",
    "S = mean_squared_diff ** 0.5\n",
    "\n",
    "# Wynik\n",
    "T = ((X_mean - mu0) / S) * (n ** 0.5)\n",
    "T = T[0]\n",
    "# Obliczenie dystrybuanty rozkładu t-Studenta\n",
    "p_value_10 = t.cdf(T, df=n)\n",
    "\n",
    "print(f\"T = {T} \\nF_T(t) = {p_value_10}\")"
   ]
  },
  {
   "cell_type": "markdown",
   "metadata": {},
   "source": [
    "Wrtość dystrybuanty $F_T(t_{20})$"
   ]
  },
  {
   "cell_type": "code",
   "execution_count": 339,
   "metadata": {},
   "outputs": [
    {
     "name": "stdout",
     "output_type": "stream",
     "text": [
      "T = 1.647936169109037 \n",
      "F_T(t) = 0.9425063486072626\n"
     ]
    }
   ],
   "source": [
    "n = 20\n",
    "X = data_20\n",
    "\n",
    "mu0 = 3.9\n",
    "\n",
    "# Oblicz średnią dla każdej kolumny\n",
    "X_mean = data.mean()\n",
    "\n",
    "# Odejmij średnią od każdej wartości w danych, podnieś do kwadratu\n",
    "squared_diff = (data - X_mean) ** 2\n",
    "\n",
    "# Oblicz średnią dla każdej kolumny danych po podniesieniu do kwadratu\n",
    "mean_squared_diff = squared_diff.mean()\n",
    "\n",
    "# Oblicz pierwiastek ze średniej kwadratowej różnic\n",
    "S = mean_squared_diff ** 0.5\n",
    "\n",
    "# Wynik\n",
    "T = ((X_mean - mu0) / S) * (n**0.5)\n",
    "T = T[0]\n",
    "# Obliczenie dystrybuanty rozkładu t-Studenta\n",
    "p_value_20 = t.cdf(T, df=n)\n",
    "\n",
    "print(f\"T = {T} \\nF_T(t) = {p_value_20}\")"
   ]
  },
  {
   "cell_type": "markdown",
   "metadata": {},
   "source": [
    "Wrtość dystrybuanty $F_T(t_{40})$"
   ]
  },
  {
   "cell_type": "code",
   "execution_count": 340,
   "metadata": {},
   "outputs": [
    {
     "name": "stdout",
     "output_type": "stream",
     "text": [
      "T = 2.3305336802791627 \n",
      "F_T(t) = 0.9875466855990793\n"
     ]
    }
   ],
   "source": [
    "n = 40\n",
    "X = data_40\n",
    "\n",
    "mu0 = 3.9\n",
    "\n",
    "# Oblicz średnią dla każdej kolumny\n",
    "X_mean = data.mean()\n",
    "\n",
    "# Odejmij średnią od każdej wartości w danych, podnieś do kwadratu\n",
    "squared_diff = (data - X_mean) ** 2\n",
    "\n",
    "# Oblicz średnią dla każdej kolumny danych po podniesieniu do kwadratu\n",
    "mean_squared_diff = squared_diff.mean()\n",
    "\n",
    "# Oblicz pierwiastek ze średniej kwadratowej różnic\n",
    "S = mean_squared_diff ** 0.5\n",
    "\n",
    "# Wynik\n",
    "T = ((X_mean - mu0) / S) * (n**0.5)\n",
    "T = T[0]\n",
    "# Obliczenie dystrybuanty rozkładu t-Studenta\n",
    "p_value_40 = t.cdf(T, df=n)\n",
    "\n",
    "print(f\"T = {T} \\nF_T(t) = {p_value_40}\")"
   ]
  },
  {
   "cell_type": "code",
   "execution_count": 341,
   "metadata": {},
   "outputs": [
    {
     "data": {
      "text/plain": [
       "(0.8645231580868336, 0.9425063486072626, 0.9875466855990793)"
      ]
     },
     "execution_count": 341,
     "metadata": {},
     "output_type": "execute_result"
    }
   ],
   "source": [
    "res_Z2 = [p_value_10, p_value_20, p_value_40]\n",
    "p_value_10, p_value_20, p_value_40"
   ]
  },
  {
   "cell_type": "markdown",
   "metadata": {},
   "source": [
    "# Z1 Z2 results"
   ]
  },
  {
   "cell_type": "code",
   "execution_count": 342,
   "metadata": {},
   "outputs": [
    {
     "name": "stdout",
     "output_type": "stream",
     "text": [
      "0.8655737493878928 0.9410569958642803 0.9864965464801648\n",
      "0.8645231580868336 0.9425063486072626 0.9875466855990793\n"
     ]
    }
   ],
   "source": [
    "print(*res_Z1)\n",
    "print(*res_Z2)"
   ]
  },
  {
   "cell_type": "markdown",
   "metadata": {},
   "source": [
    "# Z3"
   ]
  },
  {
   "cell_type": "code",
   "execution_count": 343,
   "metadata": {},
   "outputs": [
    {
     "name": "stdout",
     "output_type": "stream",
     "text": [
      "3.959999999999958\n",
      "Z = 2.2114179633273015 \n",
      "F_Z(z) = 0.9024054958935892\n"
     ]
    }
   ],
   "source": [
    "n = 20\n",
    "X = data_20\n",
    "\n",
    "mu0 = 2\n",
    "\n",
    "def f(x):\n",
    "    Z = (X_mean - x) / (sigma / (n ** 0.5))\n",
    "    p_value_20 = norm.cdf(Z)\n",
    "    return p_value_20\n",
    "\n",
    "\n",
    "# Sample mean\n",
    "X_mean = X.mean()\n",
    "\n",
    "prev_p_value = None\n",
    "prev_mu0 = mu0\n",
    "\n",
    "p_value_20 = 1\n",
    "while p_value_20 >= 0.9:\n",
    "    prev_p_value = p_value_20\n",
    "    prev_mu0 = mu0\n",
    "    mu0 += 0.01  \n",
    "    p_value_20 = f(mu0)\n",
    "\n",
    "\n",
    "print(prev_mu0)\n",
    "print(f\"Z = {Z} \\nF_Z(z) = {prev_p_value}\")"
   ]
  },
  {
   "cell_type": "code",
   "execution_count": 344,
   "metadata": {},
   "outputs": [
    {
     "name": "stdout",
     "output_type": "stream",
     "text": [
      "3.96 0.902405495893557\n",
      "3.97 0.8944705646023245\n"
     ]
    }
   ],
   "source": [
    "mu0 = 3.96\n",
    "print(mu0, f(mu0))\n",
    "mu0 = 3.97\n",
    "print(mu0, f(mu0))"
   ]
  },
  {
   "cell_type": "markdown",
   "metadata": {},
   "source": [
    "# Z4"
   ]
  },
  {
   "cell_type": "code",
   "execution_count": 345,
   "metadata": {},
   "outputs": [
    {
     "name": "stdout",
     "output_type": "stream",
     "text": [
      "3.829999999999961\n",
      "T = 2.3305336802791627 \n",
      "F_T(t) = 0.9039062419551086\n"
     ]
    }
   ],
   "source": [
    "n = 10\n",
    "X = data_10\n",
    "\n",
    "mu0 = 2\n",
    "\n",
    "# Oblicz średnią dla każdej kolumny\n",
    "X_mean = data.mean()\n",
    "\n",
    "# Odejmij średnią od każdej wartości w danych, podnieś do kwadratu\n",
    "squared_diff = (data - X_mean) ** 2\n",
    "\n",
    "# Oblicz pierwiastek ze średniej kwadratowej różnic\n",
    "S = squared_diff.mean() ** 0.5\n",
    "\n",
    "def f(x):\n",
    "    T = ((X_mean - x) / S) * (n ** 0.5)\n",
    "    T = T[0]\n",
    "    # Obliczenie dystrybuanty rozkładu t-Studenta\n",
    "    p_value_10 = t.cdf(T, df=n)\n",
    "    return p_value_10\n",
    "\n",
    "prev_p_value = None\n",
    "prev_mu0 = mu0\n",
    "\n",
    "p_value_10 = 1\n",
    "while p_value_10 >= 0.9:\n",
    "    prev_p_value = p_value_10\n",
    "    prev_mu0 = mu0\n",
    "    mu0 += 0.01  \n",
    "    p_value_10 = f(mu0)\n",
    "\n",
    "print(prev_mu0)\n",
    "print(f\"T = {T} \\nF_T(t) = {prev_p_value}\")"
   ]
  },
  {
   "cell_type": "code",
   "execution_count": 346,
   "metadata": {},
   "outputs": [
    {
     "name": "stdout",
     "output_type": "stream",
     "text": [
      "3.83 0.9039062419550897\n",
      "3.84 0.8989467324514078\n"
     ]
    }
   ],
   "source": [
    "mu0 = 3.83\n",
    "print(mu0, f(mu0))\n",
    "mu0 = 3.84\n",
    "print(mu0, f(mu0))"
   ]
  }
 ],
 "metadata": {
  "kernelspec": {
   "display_name": "Python 3",
   "language": "python",
   "name": "python3"
  },
  "language_info": {
   "codemirror_mode": {
    "name": "ipython",
    "version": 3
   },
   "file_extension": ".py",
   "mimetype": "text/x-python",
   "name": "python",
   "nbconvert_exporter": "python",
   "pygments_lexer": "ipython3",
   "version": "3.12.3"
  }
 },
 "nbformat": 4,
 "nbformat_minor": 2
}
